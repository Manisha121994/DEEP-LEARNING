{
  "nbformat": 4,
  "nbformat_minor": 0,
  "metadata": {
    "colab": {
      "name": "DLP.ipynb",
      "provenance": [],
      "collapsed_sections": []
    },
    "kernelspec": {
      "name": "python3",
      "display_name": "Python 3"
    },
    "language_info": {
      "name": "python"
    }
  },
  "cells": [
    {
      "cell_type": "markdown",
      "metadata": {
        "id": "ZsQC1b3IYoE-"
      },
      "source": [
        "Goal : A bank is investigating a very high rate of customers leaving the bank.\n",
        " Here is a 10.000 records dataset to investigate and predict which of the       customers are more likely to leave the bank soon. "
      ]
    },
    {
      "cell_type": "code",
      "metadata": {
        "id": "BCKlBG-UYx6t"
      },
      "source": [
        "# Importing libraries\n",
        "import numpy as np\n",
        "import pandas as pd\n",
        "import matplotlib.pyplot as plt\n",
        "import seaborn as sns\n",
        "from scipy.stats import skew\n",
        "from sklearn.preprocessing import LabelEncoder\n",
        "from sklearn.preprocessing import StandardScaler\n",
        "from sklearn.model_selection import train_test_split\n",
        "from sklearn.metrics import confusion_matrix, accuracy_score,classification_report\n",
        "import warnings\n",
        "warnings.filterwarnings('ignore')\n",
        "from tensorflow.keras.models import Sequential\n",
        "from tensorflow.keras.layers import Dense,Dropout"
      ],
      "execution_count": null,
      "outputs": []
    },
    {
      "cell_type": "code",
      "metadata": {
        "id": "CnpuUFA2ZAD7"
      },
      "source": [
        "df = pd.read_csv(\"/content/drive/MyDrive/Churn_Modelling.csv\")"
      ],
      "execution_count": null,
      "outputs": []
    },
    {
      "cell_type": "markdown",
      "metadata": {
        "id": "STxlK0rFa79A"
      },
      "source": [
        "# **EDA and Preprocessing**"
      ]
    },
    {
      "cell_type": "code",
      "metadata": {
        "colab": {
          "base_uri": "https://localhost:8080/"
        },
        "id": "Z27ldhVMcLjv",
        "outputId": "28b53588-30c2-44ea-e4cf-92778a294380"
      },
      "source": [
        "df.shape"
      ],
      "execution_count": null,
      "outputs": [
        {
          "output_type": "execute_result",
          "data": {
            "text/plain": [
              "(10000, 14)"
            ]
          },
          "metadata": {
            "tags": []
          },
          "execution_count": 9
        }
      ]
    },
    {
      "cell_type": "code",
      "metadata": {
        "colab": {
          "base_uri": "https://localhost:8080/",
          "height": 204
        },
        "id": "4pGg6KCqZnXr",
        "outputId": "3e722668-2427-45b7-a7ba-1e115fbc6174"
      },
      "source": [
        "df.head()"
      ],
      "execution_count": null,
      "outputs": [
        {
          "output_type": "execute_result",
          "data": {
            "text/html": [
              "<div>\n",
              "<style scoped>\n",
              "    .dataframe tbody tr th:only-of-type {\n",
              "        vertical-align: middle;\n",
              "    }\n",
              "\n",
              "    .dataframe tbody tr th {\n",
              "        vertical-align: top;\n",
              "    }\n",
              "\n",
              "    .dataframe thead th {\n",
              "        text-align: right;\n",
              "    }\n",
              "</style>\n",
              "<table border=\"1\" class=\"dataframe\">\n",
              "  <thead>\n",
              "    <tr style=\"text-align: right;\">\n",
              "      <th></th>\n",
              "      <th>RowNumber</th>\n",
              "      <th>CustomerId</th>\n",
              "      <th>Surname</th>\n",
              "      <th>CreditScore</th>\n",
              "      <th>Geography</th>\n",
              "      <th>Gender</th>\n",
              "      <th>Age</th>\n",
              "      <th>Tenure</th>\n",
              "      <th>Balance</th>\n",
              "      <th>NumOfProducts</th>\n",
              "      <th>HasCrCard</th>\n",
              "      <th>IsActiveMember</th>\n",
              "      <th>EstimatedSalary</th>\n",
              "      <th>Exited</th>\n",
              "    </tr>\n",
              "  </thead>\n",
              "  <tbody>\n",
              "    <tr>\n",
              "      <th>0</th>\n",
              "      <td>1</td>\n",
              "      <td>15634602</td>\n",
              "      <td>Hargrave</td>\n",
              "      <td>619</td>\n",
              "      <td>France</td>\n",
              "      <td>Female</td>\n",
              "      <td>42</td>\n",
              "      <td>2</td>\n",
              "      <td>0.00</td>\n",
              "      <td>1</td>\n",
              "      <td>1</td>\n",
              "      <td>1</td>\n",
              "      <td>101348.88</td>\n",
              "      <td>1</td>\n",
              "    </tr>\n",
              "    <tr>\n",
              "      <th>1</th>\n",
              "      <td>2</td>\n",
              "      <td>15647311</td>\n",
              "      <td>Hill</td>\n",
              "      <td>608</td>\n",
              "      <td>Spain</td>\n",
              "      <td>Female</td>\n",
              "      <td>41</td>\n",
              "      <td>1</td>\n",
              "      <td>83807.86</td>\n",
              "      <td>1</td>\n",
              "      <td>0</td>\n",
              "      <td>1</td>\n",
              "      <td>112542.58</td>\n",
              "      <td>0</td>\n",
              "    </tr>\n",
              "    <tr>\n",
              "      <th>2</th>\n",
              "      <td>3</td>\n",
              "      <td>15619304</td>\n",
              "      <td>Onio</td>\n",
              "      <td>502</td>\n",
              "      <td>France</td>\n",
              "      <td>Female</td>\n",
              "      <td>42</td>\n",
              "      <td>8</td>\n",
              "      <td>159660.80</td>\n",
              "      <td>3</td>\n",
              "      <td>1</td>\n",
              "      <td>0</td>\n",
              "      <td>113931.57</td>\n",
              "      <td>1</td>\n",
              "    </tr>\n",
              "    <tr>\n",
              "      <th>3</th>\n",
              "      <td>4</td>\n",
              "      <td>15701354</td>\n",
              "      <td>Boni</td>\n",
              "      <td>699</td>\n",
              "      <td>France</td>\n",
              "      <td>Female</td>\n",
              "      <td>39</td>\n",
              "      <td>1</td>\n",
              "      <td>0.00</td>\n",
              "      <td>2</td>\n",
              "      <td>0</td>\n",
              "      <td>0</td>\n",
              "      <td>93826.63</td>\n",
              "      <td>0</td>\n",
              "    </tr>\n",
              "    <tr>\n",
              "      <th>4</th>\n",
              "      <td>5</td>\n",
              "      <td>15737888</td>\n",
              "      <td>Mitchell</td>\n",
              "      <td>850</td>\n",
              "      <td>Spain</td>\n",
              "      <td>Female</td>\n",
              "      <td>43</td>\n",
              "      <td>2</td>\n",
              "      <td>125510.82</td>\n",
              "      <td>1</td>\n",
              "      <td>1</td>\n",
              "      <td>1</td>\n",
              "      <td>79084.10</td>\n",
              "      <td>0</td>\n",
              "    </tr>\n",
              "  </tbody>\n",
              "</table>\n",
              "</div>"
            ],
            "text/plain": [
              "   RowNumber  CustomerId   Surname  ...  IsActiveMember EstimatedSalary Exited\n",
              "0          1    15634602  Hargrave  ...               1       101348.88      1\n",
              "1          2    15647311      Hill  ...               1       112542.58      0\n",
              "2          3    15619304      Onio  ...               0       113931.57      1\n",
              "3          4    15701354      Boni  ...               0        93826.63      0\n",
              "4          5    15737888  Mitchell  ...               1        79084.10      0\n",
              "\n",
              "[5 rows x 14 columns]"
            ]
          },
          "metadata": {
            "tags": []
          },
          "execution_count": 10
        }
      ]
    },
    {
      "cell_type": "code",
      "metadata": {
        "colab": {
          "base_uri": "https://localhost:8080/"
        },
        "id": "gOeKAykHa01g",
        "outputId": "beae891a-f7df-4249-b442-35dea526913e"
      },
      "source": [
        "df.info()"
      ],
      "execution_count": null,
      "outputs": [
        {
          "output_type": "stream",
          "text": [
            "<class 'pandas.core.frame.DataFrame'>\n",
            "RangeIndex: 10000 entries, 0 to 9999\n",
            "Data columns (total 14 columns):\n",
            " #   Column           Non-Null Count  Dtype  \n",
            "---  ------           --------------  -----  \n",
            " 0   RowNumber        10000 non-null  int64  \n",
            " 1   CustomerId       10000 non-null  int64  \n",
            " 2   Surname          10000 non-null  object \n",
            " 3   CreditScore      10000 non-null  int64  \n",
            " 4   Geography        10000 non-null  object \n",
            " 5   Gender           10000 non-null  object \n",
            " 6   Age              10000 non-null  int64  \n",
            " 7   Tenure           10000 non-null  int64  \n",
            " 8   Balance          10000 non-null  float64\n",
            " 9   NumOfProducts    10000 non-null  int64  \n",
            " 10  HasCrCard        10000 non-null  int64  \n",
            " 11  IsActiveMember   10000 non-null  int64  \n",
            " 12  EstimatedSalary  10000 non-null  float64\n",
            " 13  Exited           10000 non-null  int64  \n",
            "dtypes: float64(2), int64(9), object(3)\n",
            "memory usage: 1.1+ MB\n"
          ],
          "name": "stdout"
        }
      ]
    },
    {
      "cell_type": "code",
      "metadata": {
        "colab": {
          "base_uri": "https://localhost:8080/"
        },
        "id": "hoH6zDgobISQ",
        "outputId": "dc84a19c-fc6f-45b0-8f6f-5951d7687225"
      },
      "source": [
        "# checking for null values\n",
        "df.isnull().sum()"
      ],
      "execution_count": null,
      "outputs": [
        {
          "output_type": "execute_result",
          "data": {
            "text/plain": [
              "RowNumber          0\n",
              "CustomerId         0\n",
              "Surname            0\n",
              "CreditScore        0\n",
              "Geography          0\n",
              "Gender             0\n",
              "Age                0\n",
              "Tenure             0\n",
              "Balance            0\n",
              "NumOfProducts      0\n",
              "HasCrCard          0\n",
              "IsActiveMember     0\n",
              "EstimatedSalary    0\n",
              "Exited             0\n",
              "dtype: int64"
            ]
          },
          "metadata": {
            "tags": []
          },
          "execution_count": 12
        }
      ]
    },
    {
      "cell_type": "markdown",
      "metadata": {
        "id": "LbanFavWFUyD"
      },
      "source": [
        "We can see that there are no null values in our dataset."
      ]
    },
    {
      "cell_type": "code",
      "metadata": {
        "colab": {
          "base_uri": "https://localhost:8080/",
          "height": 297
        },
        "id": "4oUIG0xfcaul",
        "outputId": "f5bf30b3-3741-4a97-962f-29d896ff4c14"
      },
      "source": [
        "df.describe()"
      ],
      "execution_count": null,
      "outputs": [
        {
          "output_type": "execute_result",
          "data": {
            "text/html": [
              "<div>\n",
              "<style scoped>\n",
              "    .dataframe tbody tr th:only-of-type {\n",
              "        vertical-align: middle;\n",
              "    }\n",
              "\n",
              "    .dataframe tbody tr th {\n",
              "        vertical-align: top;\n",
              "    }\n",
              "\n",
              "    .dataframe thead th {\n",
              "        text-align: right;\n",
              "    }\n",
              "</style>\n",
              "<table border=\"1\" class=\"dataframe\">\n",
              "  <thead>\n",
              "    <tr style=\"text-align: right;\">\n",
              "      <th></th>\n",
              "      <th>RowNumber</th>\n",
              "      <th>CustomerId</th>\n",
              "      <th>CreditScore</th>\n",
              "      <th>Age</th>\n",
              "      <th>Tenure</th>\n",
              "      <th>Balance</th>\n",
              "      <th>NumOfProducts</th>\n",
              "      <th>HasCrCard</th>\n",
              "      <th>IsActiveMember</th>\n",
              "      <th>EstimatedSalary</th>\n",
              "      <th>Exited</th>\n",
              "    </tr>\n",
              "  </thead>\n",
              "  <tbody>\n",
              "    <tr>\n",
              "      <th>count</th>\n",
              "      <td>10000.00000</td>\n",
              "      <td>1.000000e+04</td>\n",
              "      <td>10000.000000</td>\n",
              "      <td>10000.000000</td>\n",
              "      <td>10000.000000</td>\n",
              "      <td>10000.000000</td>\n",
              "      <td>10000.000000</td>\n",
              "      <td>10000.00000</td>\n",
              "      <td>10000.000000</td>\n",
              "      <td>10000.000000</td>\n",
              "      <td>10000.000000</td>\n",
              "    </tr>\n",
              "    <tr>\n",
              "      <th>mean</th>\n",
              "      <td>5000.50000</td>\n",
              "      <td>1.569094e+07</td>\n",
              "      <td>650.528800</td>\n",
              "      <td>38.921800</td>\n",
              "      <td>5.012800</td>\n",
              "      <td>76485.889288</td>\n",
              "      <td>1.530200</td>\n",
              "      <td>0.70550</td>\n",
              "      <td>0.515100</td>\n",
              "      <td>100090.239881</td>\n",
              "      <td>0.203700</td>\n",
              "    </tr>\n",
              "    <tr>\n",
              "      <th>std</th>\n",
              "      <td>2886.89568</td>\n",
              "      <td>7.193619e+04</td>\n",
              "      <td>96.653299</td>\n",
              "      <td>10.487806</td>\n",
              "      <td>2.892174</td>\n",
              "      <td>62397.405202</td>\n",
              "      <td>0.581654</td>\n",
              "      <td>0.45584</td>\n",
              "      <td>0.499797</td>\n",
              "      <td>57510.492818</td>\n",
              "      <td>0.402769</td>\n",
              "    </tr>\n",
              "    <tr>\n",
              "      <th>min</th>\n",
              "      <td>1.00000</td>\n",
              "      <td>1.556570e+07</td>\n",
              "      <td>350.000000</td>\n",
              "      <td>18.000000</td>\n",
              "      <td>0.000000</td>\n",
              "      <td>0.000000</td>\n",
              "      <td>1.000000</td>\n",
              "      <td>0.00000</td>\n",
              "      <td>0.000000</td>\n",
              "      <td>11.580000</td>\n",
              "      <td>0.000000</td>\n",
              "    </tr>\n",
              "    <tr>\n",
              "      <th>25%</th>\n",
              "      <td>2500.75000</td>\n",
              "      <td>1.562853e+07</td>\n",
              "      <td>584.000000</td>\n",
              "      <td>32.000000</td>\n",
              "      <td>3.000000</td>\n",
              "      <td>0.000000</td>\n",
              "      <td>1.000000</td>\n",
              "      <td>0.00000</td>\n",
              "      <td>0.000000</td>\n",
              "      <td>51002.110000</td>\n",
              "      <td>0.000000</td>\n",
              "    </tr>\n",
              "    <tr>\n",
              "      <th>50%</th>\n",
              "      <td>5000.50000</td>\n",
              "      <td>1.569074e+07</td>\n",
              "      <td>652.000000</td>\n",
              "      <td>37.000000</td>\n",
              "      <td>5.000000</td>\n",
              "      <td>97198.540000</td>\n",
              "      <td>1.000000</td>\n",
              "      <td>1.00000</td>\n",
              "      <td>1.000000</td>\n",
              "      <td>100193.915000</td>\n",
              "      <td>0.000000</td>\n",
              "    </tr>\n",
              "    <tr>\n",
              "      <th>75%</th>\n",
              "      <td>7500.25000</td>\n",
              "      <td>1.575323e+07</td>\n",
              "      <td>718.000000</td>\n",
              "      <td>44.000000</td>\n",
              "      <td>7.000000</td>\n",
              "      <td>127644.240000</td>\n",
              "      <td>2.000000</td>\n",
              "      <td>1.00000</td>\n",
              "      <td>1.000000</td>\n",
              "      <td>149388.247500</td>\n",
              "      <td>0.000000</td>\n",
              "    </tr>\n",
              "    <tr>\n",
              "      <th>max</th>\n",
              "      <td>10000.00000</td>\n",
              "      <td>1.581569e+07</td>\n",
              "      <td>850.000000</td>\n",
              "      <td>92.000000</td>\n",
              "      <td>10.000000</td>\n",
              "      <td>250898.090000</td>\n",
              "      <td>4.000000</td>\n",
              "      <td>1.00000</td>\n",
              "      <td>1.000000</td>\n",
              "      <td>199992.480000</td>\n",
              "      <td>1.000000</td>\n",
              "    </tr>\n",
              "  </tbody>\n",
              "</table>\n",
              "</div>"
            ],
            "text/plain": [
              "         RowNumber    CustomerId  ...  EstimatedSalary        Exited\n",
              "count  10000.00000  1.000000e+04  ...     10000.000000  10000.000000\n",
              "mean    5000.50000  1.569094e+07  ...    100090.239881      0.203700\n",
              "std     2886.89568  7.193619e+04  ...     57510.492818      0.402769\n",
              "min        1.00000  1.556570e+07  ...        11.580000      0.000000\n",
              "25%     2500.75000  1.562853e+07  ...     51002.110000      0.000000\n",
              "50%     5000.50000  1.569074e+07  ...    100193.915000      0.000000\n",
              "75%     7500.25000  1.575323e+07  ...    149388.247500      0.000000\n",
              "max    10000.00000  1.581569e+07  ...    199992.480000      1.000000\n",
              "\n",
              "[8 rows x 11 columns]"
            ]
          },
          "metadata": {
            "tags": []
          },
          "execution_count": 13
        }
      ]
    },
    {
      "cell_type": "markdown",
      "metadata": {
        "id": "vVoDsfsoGmiy"
      },
      "source": [
        "# **Checking Multicolinearity**"
      ]
    },
    {
      "cell_type": "code",
      "metadata": {
        "colab": {
          "base_uri": "https://localhost:8080/",
          "height": 559
        },
        "id": "SGy7e2W6ejEb",
        "outputId": "f2fbf03d-1ee7-4b64-895e-a24addc93d9d"
      },
      "source": [
        "plt.figure(figsize=(8,8))\n",
        "sns.heatmap(df.corr(),annot=True)\n",
        "plt.show()"
      ],
      "execution_count": null,
      "outputs": [
        {
          "output_type": "display_data",
          "data": {
            "image/png": "[encoded data removed]",
            "text/plain": [
              "<Figure size 576x576 with 2 Axes>"
            ]
          },
          "metadata": {
            "tags": [],
            "needs_background": "light"
          }
        }
      ]
    },
    {
      "cell_type": "markdown",
      "metadata": {
        "id": "8-Rov_dLiQNw"
      },
      "source": [
        "We can see there is no multicolinearity present in data hence we can drop those \n",
        "columns."
      ]
    },
    {
      "cell_type": "code",
      "metadata": {
        "id": "sQSl_J7FgwvJ"
      },
      "source": [
        "df.drop(['RowNumber','CustomerId','Surname'],axis=1,inplace=True)"
      ],
      "execution_count": null,
      "outputs": []
    },
    {
      "cell_type": "code",
      "metadata": {
        "colab": {
          "base_uri": "https://localhost:8080/",
          "height": 204
        },
        "id": "hK-5dBm7h4ES",
        "outputId": "f5458996-a1f1-470c-eb78-6e455c440c1d"
      },
      "source": [
        "df.head()"
      ],
      "execution_count": null,
      "outputs": [
        {
          "output_type": "execute_result",
          "data": {
            "text/html": [
              "<div>\n",
              "<style scoped>\n",
              "    .dataframe tbody tr th:only-of-type {\n",
              "        vertical-align: middle;\n",
              "    }\n",
              "\n",
              "    .dataframe tbody tr th {\n",
              "        vertical-align: top;\n",
              "    }\n",
              "\n",
              "    .dataframe thead th {\n",
              "        text-align: right;\n",
              "    }\n",
              "</style>\n",
              "<table border=\"1\" class=\"dataframe\">\n",
              "  <thead>\n",
              "    <tr style=\"text-align: right;\">\n",
              "      <th></th>\n",
              "      <th>CreditScore</th>\n",
              "      <th>Geography</th>\n",
              "      <th>Gender</th>\n",
              "      <th>Age</th>\n",
              "      <th>Tenure</th>\n",
              "      <th>Balance</th>\n",
              "      <th>NumOfProducts</th>\n",
              "      <th>HasCrCard</th>\n",
              "      <th>IsActiveMember</th>\n",
              "      <th>EstimatedSalary</th>\n",
              "      <th>Exited</th>\n",
              "    </tr>\n",
              "  </thead>\n",
              "  <tbody>\n",
              "    <tr>\n",
              "      <th>0</th>\n",
              "      <td>619</td>\n",
              "      <td>France</td>\n",
              "      <td>Female</td>\n",
              "      <td>42</td>\n",
              "      <td>2</td>\n",
              "      <td>0.00</td>\n",
              "      <td>1</td>\n",
              "      <td>1</td>\n",
              "      <td>1</td>\n",
              "      <td>101348.88</td>\n",
              "      <td>1</td>\n",
              "    </tr>\n",
              "    <tr>\n",
              "      <th>1</th>\n",
              "      <td>608</td>\n",
              "      <td>Spain</td>\n",
              "      <td>Female</td>\n",
              "      <td>41</td>\n",
              "      <td>1</td>\n",
              "      <td>83807.86</td>\n",
              "      <td>1</td>\n",
              "      <td>0</td>\n",
              "      <td>1</td>\n",
              "      <td>112542.58</td>\n",
              "      <td>0</td>\n",
              "    </tr>\n",
              "    <tr>\n",
              "      <th>2</th>\n",
              "      <td>502</td>\n",
              "      <td>France</td>\n",
              "      <td>Female</td>\n",
              "      <td>42</td>\n",
              "      <td>8</td>\n",
              "      <td>159660.80</td>\n",
              "      <td>3</td>\n",
              "      <td>1</td>\n",
              "      <td>0</td>\n",
              "      <td>113931.57</td>\n",
              "      <td>1</td>\n",
              "    </tr>\n",
              "    <tr>\n",
              "      <th>3</th>\n",
              "      <td>699</td>\n",
              "      <td>France</td>\n",
              "      <td>Female</td>\n",
              "      <td>39</td>\n",
              "      <td>1</td>\n",
              "      <td>0.00</td>\n",
              "      <td>2</td>\n",
              "      <td>0</td>\n",
              "      <td>0</td>\n",
              "      <td>93826.63</td>\n",
              "      <td>0</td>\n",
              "    </tr>\n",
              "    <tr>\n",
              "      <th>4</th>\n",
              "      <td>850</td>\n",
              "      <td>Spain</td>\n",
              "      <td>Female</td>\n",
              "      <td>43</td>\n",
              "      <td>2</td>\n",
              "      <td>125510.82</td>\n",
              "      <td>1</td>\n",
              "      <td>1</td>\n",
              "      <td>1</td>\n",
              "      <td>79084.10</td>\n",
              "      <td>0</td>\n",
              "    </tr>\n",
              "  </tbody>\n",
              "</table>\n",
              "</div>"
            ],
            "text/plain": [
              "   CreditScore Geography  Gender  ...  IsActiveMember  EstimatedSalary  Exited\n",
              "0          619    France  Female  ...               1        101348.88       1\n",
              "1          608     Spain  Female  ...               1        112542.58       0\n",
              "2          502    France  Female  ...               0        113931.57       1\n",
              "3          699    France  Female  ...               0         93826.63       0\n",
              "4          850     Spain  Female  ...               1         79084.10       0\n",
              "\n",
              "[5 rows x 11 columns]"
            ]
          },
          "metadata": {
            "tags": []
          },
          "execution_count": 16
        }
      ]
    },
    {
      "cell_type": "code",
      "metadata": {
        "id": "kgZHO4gEigUv"
      },
      "source": [
        "# Separate numerical and categorical data"
      ],
      "execution_count": null,
      "outputs": []
    },
    {
      "cell_type": "code",
      "metadata": {
        "id": "DHhPDrLrivCn"
      },
      "source": [
        "# Numerical columns\n",
        "df_num = df.select_dtypes(exclude=object)"
      ],
      "execution_count": null,
      "outputs": []
    },
    {
      "cell_type": "code",
      "metadata": {
        "id": "FLjgCDjoi-bA"
      },
      "source": [
        "# Categorical columns\n",
        "df_cat = df.select_dtypes(include=object)"
      ],
      "execution_count": null,
      "outputs": []
    },
    {
      "cell_type": "code",
      "metadata": {
        "colab": {
          "base_uri": "https://localhost:8080/",
          "height": 1000
        },
        "id": "gAVGt8f_jBQy",
        "outputId": "fddbecd7-bb3f-438c-9f40-b2628e76b827"
      },
      "source": [
        "# Visualizing continuous variables\n",
        "for col in df_num:\n",
        "  plt.figure()\n",
        "  sns.distplot(df_num[col])\n",
        "  plt.show()\n",
        "  print(skew(df_num[col]))"
      ],
      "execution_count": null,
      "outputs": [
        {
          "output_type": "display_data",
          "data": {
            "image/png": "[encoded data removed]",
            "text/plain": [
              "<Figure size 432x288 with 1 Axes>"
            ]
          },
          "metadata": {
            "tags": [],
            "needs_background": "light"
          }
        },
        {
          "output_type": "stream",
          "text": [
            "-0.07159586676212397\n"
          ],
          "name": "stdout"
        },
        {
          "output_type": "display_data",
          "data": {
            "image/png": "[encoded data removed]",
            "text/plain": [
              "<Figure size 432x288 with 1 Axes>"
            ]
          },
          "metadata": {
            "tags": [],
            "needs_background": "light"
          }
        },
        {
          "output_type": "stream",
          "text": [
            "1.0111685586628079\n"
          ],
          "name": "stdout"
        },
        {
          "output_type": "display_data",
          "data": {
            "image/png": "[encoded data removed]",
            "text/plain": [
              "<Figure size 432x288 with 1 Axes>"
            ]
          },
          "metadata": {
            "tags": [],
            "needs_background": "light"
          }
        },
        {
          "output_type": "stream",
          "text": [
            "0.010989809189781041\n"
          ],
          "name": "stdout"
        },
        {
          "output_type": "display_data",
          "data": {
            "image/png": "[encoded data removed]",
            "text/plain": [
              "<Figure size 432x288 with 1 Axes>"
            ]
          },
          "metadata": {
            "tags": [],
            "needs_background": "light"
          }
        },
        {
          "output_type": "stream",
          "text": [
            "-0.14108754375291138\n"
          ],
          "name": "stdout"
        },
        {
          "output_type": "display_data",
          "data": {
            "image/png": "[encoded data removed]",
            "text/plain": [
              "<Figure size 432x288 with 1 Axes>"
            ]
          },
          "metadata": {
            "tags": [],
            "needs_background": "light"
          }
        },
        {
          "output_type": "stream",
          "text": [
            "0.745456048438949\n"
          ],
          "name": "stdout"
        },
        {
          "output_type": "display_data",
          "data": {
            "image/png": "[encoded data removed]",
            "text/plain": [
              "<Figure size 432x288 with 1 Axes>"
            ]
          },
          "metadata": {
            "tags": [],
            "needs_background": "light"
          }
        },
        {
          "output_type": "stream",
          "text": [
            "-0.9016763178640548\n"
          ],
          "name": "stdout"
        },
        {
          "output_type": "display_data",
          "data": {
            "image/png": "[encoded data removed]",
            "text/plain": [
              "<Figure size 432x288 with 1 Axes>"
            ]
          },
          "metadata": {
            "tags": [],
            "needs_background": "light"
          }
        },
        {
          "output_type": "stream",
          "text": [
            "-0.06042756246298516\n"
          ],
          "name": "stdout"
        },
        {
          "output_type": "display_data",
          "data": {
            "image/png": "[encoded data removed]",
            "text/plain": [
              "<Figure size 432x288 with 1 Axes>"
            ]
          },
          "metadata": {
            "tags": [],
            "needs_background": "light"
          }
        },
        {
          "output_type": "stream",
          "text": [
            "0.0020850448448748848\n"
          ],
          "name": "stdout"
        },
        {
          "output_type": "display_data",
          "data": {
            "image/png": "[encoded data removed]",
            "text/plain": [
              "<Figure size 432x288 with 1 Axes>"
            ]
          },
          "metadata": {
            "tags": [],
            "needs_background": "light"
          }
        },
        {
          "output_type": "stream",
          "text": [
            "1.4713899141398699\n"
          ],
          "name": "stdout"
        }
      ]
    },
    {
      "cell_type": "code",
      "metadata": {
        "id": "BrbJnYbKjhb9"
      },
      "source": [
        "for col in df_num:\n",
        " if skew(df_num[col])>0.5 or skew(df_num[col])<-0.5:\n",
        "  df_num[col] = np.sqrt(df_num[col])"
      ],
      "execution_count": null,
      "outputs": []
    },
    {
      "cell_type": "code",
      "metadata": {
        "colab": {
          "base_uri": "https://localhost:8080/",
          "height": 1000
        },
        "id": "6KNA_KTWj9GE",
        "outputId": "769e10e8-54fa-4894-8c5c-f87136494e19"
      },
      "source": [
        "for col in df_num:\n",
        " plt.figure()\n",
        " sns.distplot(df_num[col])\n",
        " plt.show()\n",
        " print(skew(df_num[col]))"
      ],
      "execution_count": null,
      "outputs": [
        {
          "output_type": "display_data",
          "data": {
            "image/png": "[encoded data removed]",
            "text/plain": [
              "<Figure size 432x288 with 1 Axes>"
            ]
          },
          "metadata": {
            "tags": [],
            "needs_background": "light"
          }
        },
        {
          "output_type": "stream",
          "text": [
            "-0.07159586676212397\n"
          ],
          "name": "stdout"
        },
        {
          "output_type": "display_data",
          "data": {
            "image/png": "[encoded data removed]",
            "text/plain": [
              "<Figure size 432x288 with 1 Axes>"
            ]
          },
          "metadata": {
            "tags": [],
            "needs_background": "light"
          }
        },
        {
          "output_type": "stream",
          "text": [
            "0.5933159623197802\n"
          ],
          "name": "stdout"
        },
        {
          "output_type": "display_data",
          "data": {
            "image/png": "[encoded data removed]",
            "text/plain": [
              "<Figure size 432x288 with 1 Axes>"
            ]
          },
          "metadata": {
            "tags": [],
            "needs_background": "light"
          }
        },
        {
          "output_type": "stream",
          "text": [
            "0.010989809189781041\n"
          ],
          "name": "stdout"
        },
        {
          "output_type": "display_data",
          "data": {
            "image/png": "[encoded data removed]",
            "text/plain": [
              "<Figure size 432x288 with 1 Axes>"
            ]
          },
          "metadata": {
            "tags": [],
            "needs_background": "light"
          }
        },
        {
          "output_type": "stream",
          "text": [
            "-0.14108754375291138\n"
          ],
          "name": "stdout"
        },
        {
          "output_type": "display_data",
          "data": {
            "image/png": "[encoded data removed]",
            "text/plain": [
              "<Figure size 432x288 with 1 Axes>"
            ]
          },
          "metadata": {
            "tags": [],
            "needs_background": "light"
          }
        },
        {
          "output_type": "stream",
          "text": [
            "0.4204651463627845\n"
          ],
          "name": "stdout"
        },
        {
          "output_type": "display_data",
          "data": {
            "image/png": "[encoded data removed]",
            "text/plain": [
              "<Figure size 432x288 with 1 Axes>"
            ]
          },
          "metadata": {
            "tags": [],
            "needs_background": "light"
          }
        },
        {
          "output_type": "stream",
          "text": [
            "-0.9016763178640548\n"
          ],
          "name": "stdout"
        },
        {
          "output_type": "display_data",
          "data": {
            "image/png": "[encoded data removed]",
            "text/plain": [
              "<Figure size 432x288 with 1 Axes>"
            ]
          },
          "metadata": {
            "tags": [],
            "needs_background": "light"
          }
        },
        {
          "output_type": "stream",
          "text": [
            "-0.06042756246298516\n"
          ],
          "name": "stdout"
        },
        {
          "output_type": "display_data",
          "data": {
            "image/png": "[encoded data removed]",
            "text/plain": [
              "<Figure size 432x288 with 1 Axes>"
            ]
          },
          "metadata": {
            "tags": [],
            "needs_background": "light"
          }
        },
        {
          "output_type": "stream",
          "text": [
            "0.0020850448448748848\n"
          ],
          "name": "stdout"
        },
        {
          "output_type": "display_data",
          "data": {
            "image/png": "[encoded data removed]",
            "text/plain": [
              "<Figure size 432x288 with 1 Axes>"
            ]
          },
          "metadata": {
            "tags": [],
            "needs_background": "light"
          }
        },
        {
          "output_type": "stream",
          "text": [
            "1.4713899141398699\n"
          ],
          "name": "stdout"
        }
      ]
    },
    {
      "cell_type": "markdown",
      "metadata": {
        "id": "tn4g1Ye-HchC"
      },
      "source": [
        "# Univariate Analysis"
      ]
    },
    {
      "cell_type": "code",
      "metadata": {
        "colab": {
          "base_uri": "https://localhost:8080/",
          "height": 1000
        },
        "id": "CtC264XPkFRy",
        "outputId": "7084df29-3c2e-4817-f060-ab2802f630d6"
      },
      "source": [
        "for col in df_num:\n",
        " plt.figure()\n",
        " sns.boxplot(x='Exited',y = df_num[col],data=df_num)\n",
        " plt.show()"
      ],
      "execution_count": null,
      "outputs": [
        {
          "output_type": "display_data",
          "data": {
            "image/png": "[encoded data removed]",
            "text/plain": [
              "<Figure size 432x288 with 1 Axes>"
            ]
          },
          "metadata": {
            "tags": [],
            "needs_background": "light"
          }
        },
        {
          "output_type": "display_data",
          "data": {
            "image/png": "[encoded data removed]",
            "text/plain": [
              "<Figure size 432x288 with 1 Axes>"
            ]
          },
          "metadata": {
            "tags": [],
            "needs_background": "light"
          }
        },
        {
          "output_type": "display_data",
          "data": {
            "image/png": "[encoded data removed]",
            "text/plain": [
              "<Figure size 432x288 with 1 Axes>"
            ]
          },
          "metadata": {
            "tags": [],
            "needs_background": "light"
          }
        },
        {
          "output_type": "display_data",
          "data": {
            "image/png": "[encoded data removed]",
            "text/plain": [
              "<Figure size 432x288 with 1 Axes>"
            ]
          },
          "metadata": {
            "tags": [],
            "needs_background": "light"
          }
        },
        {
          "output_type": "display_data",
          "data": {
            "image/png": "[encoded data removed]",
            "text/plain": [
              "<Figure size 432x288 with 1 Axes>"
            ]
          },
          "metadata": {
            "tags": [],
            "needs_background": "light"
          }
        },
        {
          "output_type": "display_data",
          "data": {
            "image/png": "[encoded data removed]",
            "text/plain": [
              "<Figure size 432x288 with 1 Axes>"
            ]
          },
          "metadata": {
            "tags": [],
            "needs_background": "light"
          }
        },
        {
          "output_type": "display_data",
          "data": {
            "image/png": "[encoded data removed]",
            "text/plain": [
              "<Figure size 432x288 with 1 Axes>"
            ]
          },
          "metadata": {
            "tags": [],
            "needs_background": "light"
          }
        },
        {
          "output_type": "display_data",
          "data": {
            "image/png": "[encoded data removed]",
            "text/plain": [
              "<Figure size 432x288 with 1 Axes>"
            ]
          },
          "metadata": {
            "tags": [],
            "needs_background": "light"
          }
        },
        {
          "output_type": "display_data",
          "data": {
            "image/png": "[encoded data removed]",
            "text/plain": [
              "<Figure size 432x288 with 1 Axes>"
            ]
          },
          "metadata": {
            "tags": [],
            "needs_background": "light"
          }
        }
      ]
    },
    {
      "cell_type": "markdown",
      "metadata": {
        "id": "T238rxIUAOEJ"
      },
      "source": [
        "# We note the following:\n",
        "\n",
        "1.There is no significant difference in the credit score distribution between retained and churned customers.\n",
        "\n",
        "2.The older customers are churning at more than the younger ones alluding to     difference in service preference in the age categories. \n",
        "The bank may need to review their target market or review the strategy for retention between the different age groups.\n",
        "\n",
        "3.Majority of customers have tenure between 1 to 9 .\n",
        "\n",
        "4.Bank is loosing customers with significant bank balance.\n",
        "\n",
        "5.bit_lengthMost of the customers have 1 or 2 products.\n",
        "\n",
        "6.Majority of customers have credit cards.\n",
        "\n",
        "7.he inactive members have a greater churn & also proportion of inactive members is also very high.\n",
        "\n",
        "8.Estimated Salary does not have a significant on the possibility to churn."
      ]
    },
    {
      "cell_type": "code",
      "metadata": {
        "colab": {
          "base_uri": "https://localhost:8080/",
          "height": 204
        },
        "id": "mA1OIwoV__ja",
        "outputId": "7b1995b0-d928-4741-ffc6-9d9406000a8f"
      },
      "source": [
        "# visualizing categorical variables\n",
        "df_cat.head()"
      ],
      "execution_count": null,
      "outputs": [
        {
          "output_type": "execute_result",
          "data": {
            "text/html": [
              "<div>\n",
              "<style scoped>\n",
              "    .dataframe tbody tr th:only-of-type {\n",
              "        vertical-align: middle;\n",
              "    }\n",
              "\n",
              "    .dataframe tbody tr th {\n",
              "        vertical-align: top;\n",
              "    }\n",
              "\n",
              "    .dataframe thead th {\n",
              "        text-align: right;\n",
              "    }\n",
              "</style>\n",
              "<table border=\"1\" class=\"dataframe\">\n",
              "  <thead>\n",
              "    <tr style=\"text-align: right;\">\n",
              "      <th></th>\n",
              "      <th>Geography</th>\n",
              "      <th>Gender</th>\n",
              "    </tr>\n",
              "  </thead>\n",
              "  <tbody>\n",
              "    <tr>\n",
              "      <th>0</th>\n",
              "      <td>France</td>\n",
              "      <td>Female</td>\n",
              "    </tr>\n",
              "    <tr>\n",
              "      <th>1</th>\n",
              "      <td>Spain</td>\n",
              "      <td>Female</td>\n",
              "    </tr>\n",
              "    <tr>\n",
              "      <th>2</th>\n",
              "      <td>France</td>\n",
              "      <td>Female</td>\n",
              "    </tr>\n",
              "    <tr>\n",
              "      <th>3</th>\n",
              "      <td>France</td>\n",
              "      <td>Female</td>\n",
              "    </tr>\n",
              "    <tr>\n",
              "      <th>4</th>\n",
              "      <td>Spain</td>\n",
              "      <td>Female</td>\n",
              "    </tr>\n",
              "  </tbody>\n",
              "</table>\n",
              "</div>"
            ],
            "text/plain": [
              "  Geography  Gender\n",
              "0    France  Female\n",
              "1     Spain  Female\n",
              "2    France  Female\n",
              "3    France  Female\n",
              "4     Spain  Female"
            ]
          },
          "metadata": {
            "tags": []
          },
          "execution_count": 24
        }
      ]
    },
    {
      "cell_type": "code",
      "metadata": {
        "colab": {
          "base_uri": "https://localhost:8080/",
          "height": 279
        },
        "id": "w_ZjzGmUAFJW",
        "outputId": "8c47aaf3-95f2-4cd3-c3fe-7244c142e78c"
      },
      "source": [
        "plt.figure()\n",
        "sns.countplot('Geography', hue = 'Exited', data = df)\n",
        "plt.show()"
      ],
      "execution_count": null,
      "outputs": [
        {
          "output_type": "display_data",
          "data": {
            "image/png": "[encoded data removed]",
            "text/plain": [
              "<Figure size 432x288 with 1 Axes>"
            ]
          },
          "metadata": {
            "tags": [],
            "needs_background": "light"
          }
        }
      ]
    },
    {
      "cell_type": "code",
      "metadata": {
        "colab": {
          "base_uri": "https://localhost:8080/",
          "height": 279
        },
        "id": "P8PYJQCPAzSR",
        "outputId": "05c2e931-9faf-47f3-c6d4-9e42f0490d28"
      },
      "source": [
        "plt.figure()\n",
        "sns.countplot('Gender', hue = 'Exited', data = df)\n",
        "plt.show()\n"
      ],
      "execution_count": null,
      "outputs": [
        {
          "output_type": "display_data",
          "data": {
            "image/png": "[encoded data removed]",
            "text/plain": [
              "<Figure size 432x288 with 1 Axes>"
            ]
          },
          "metadata": {
            "tags": [],
            "needs_background": "light"
          }
        }
      ]
    },
    {
      "cell_type": "markdown",
      "metadata": {
        "id": "xI9oGieAGvKx"
      },
      "source": [
        "# From above we can conclude that:-\n",
        "1.Majority of the customers are from france but most customers which churned    are from germany\n",
        "\n",
        "2.The proportion of female customers churning is also greater than that of male customers."
      ]
    },
    {
      "cell_type": "code",
      "metadata": {
        "id": "vLFubxkwG-W_"
      },
      "source": [
        "# Encoding categorical variable\n",
        "le = LabelEncoder()\n",
        "for col in df_cat:\n",
        " df_cat[col]=le.fit_transform(df_cat[col])"
      ],
      "execution_count": null,
      "outputs": []
    },
    {
      "cell_type": "code",
      "metadata": {
        "id": "shFpwS6aHQTy"
      },
      "source": [
        "df_new = pd.concat([df_num,df_cat],axis=1)"
      ],
      "execution_count": null,
      "outputs": []
    },
    {
      "cell_type": "code",
      "metadata": {
        "colab": {
          "base_uri": "https://localhost:8080/",
          "height": 204
        },
        "id": "KuU3mgoKHU7a",
        "outputId": "5301a96b-7193-416c-a1c8-22a0956a41e2"
      },
      "source": [
        "df_new.head()"
      ],
      "execution_count": null,
      "outputs": [
        {
          "output_type": "execute_result",
          "data": {
            "text/html": [
              "<div>\n",
              "<style scoped>\n",
              "    .dataframe tbody tr th:only-of-type {\n",
              "        vertical-align: middle;\n",
              "    }\n",
              "\n",
              "    .dataframe tbody tr th {\n",
              "        vertical-align: top;\n",
              "    }\n",
              "\n",
              "    .dataframe thead th {\n",
              "        text-align: right;\n",
              "    }\n",
              "</style>\n",
              "<table border=\"1\" class=\"dataframe\">\n",
              "  <thead>\n",
              "    <tr style=\"text-align: right;\">\n",
              "      <th></th>\n",
              "      <th>CreditScore</th>\n",
              "      <th>Age</th>\n",
              "      <th>Tenure</th>\n",
              "      <th>Balance</th>\n",
              "      <th>NumOfProducts</th>\n",
              "      <th>HasCrCard</th>\n",
              "      <th>IsActiveMember</th>\n",
              "      <th>EstimatedSalary</th>\n",
              "      <th>Exited</th>\n",
              "      <th>Geography</th>\n",
              "      <th>Gender</th>\n",
              "    </tr>\n",
              "  </thead>\n",
              "  <tbody>\n",
              "    <tr>\n",
              "      <th>0</th>\n",
              "      <td>619</td>\n",
              "      <td>6.480741</td>\n",
              "      <td>2</td>\n",
              "      <td>0.00</td>\n",
              "      <td>1.000000</td>\n",
              "      <td>1.0</td>\n",
              "      <td>1</td>\n",
              "      <td>101348.88</td>\n",
              "      <td>1.0</td>\n",
              "      <td>0</td>\n",
              "      <td>0</td>\n",
              "    </tr>\n",
              "    <tr>\n",
              "      <th>1</th>\n",
              "      <td>608</td>\n",
              "      <td>6.403124</td>\n",
              "      <td>1</td>\n",
              "      <td>83807.86</td>\n",
              "      <td>1.000000</td>\n",
              "      <td>0.0</td>\n",
              "      <td>1</td>\n",
              "      <td>112542.58</td>\n",
              "      <td>0.0</td>\n",
              "      <td>2</td>\n",
              "      <td>0</td>\n",
              "    </tr>\n",
              "    <tr>\n",
              "      <th>2</th>\n",
              "      <td>502</td>\n",
              "      <td>6.480741</td>\n",
              "      <td>8</td>\n",
              "      <td>159660.80</td>\n",
              "      <td>1.732051</td>\n",
              "      <td>1.0</td>\n",
              "      <td>0</td>\n",
              "      <td>113931.57</td>\n",
              "      <td>1.0</td>\n",
              "      <td>0</td>\n",
              "      <td>0</td>\n",
              "    </tr>\n",
              "    <tr>\n",
              "      <th>3</th>\n",
              "      <td>699</td>\n",
              "      <td>6.244998</td>\n",
              "      <td>1</td>\n",
              "      <td>0.00</td>\n",
              "      <td>1.414214</td>\n",
              "      <td>0.0</td>\n",
              "      <td>0</td>\n",
              "      <td>93826.63</td>\n",
              "      <td>0.0</td>\n",
              "      <td>0</td>\n",
              "      <td>0</td>\n",
              "    </tr>\n",
              "    <tr>\n",
              "      <th>4</th>\n",
              "      <td>850</td>\n",
              "      <td>6.557439</td>\n",
              "      <td>2</td>\n",
              "      <td>125510.82</td>\n",
              "      <td>1.000000</td>\n",
              "      <td>1.0</td>\n",
              "      <td>1</td>\n",
              "      <td>79084.10</td>\n",
              "      <td>0.0</td>\n",
              "      <td>2</td>\n",
              "      <td>0</td>\n",
              "    </tr>\n",
              "  </tbody>\n",
              "</table>\n",
              "</div>"
            ],
            "text/plain": [
              "   CreditScore       Age  Tenure  ...  Exited  Geography  Gender\n",
              "0          619  6.480741       2  ...     1.0          0       0\n",
              "1          608  6.403124       1  ...     0.0          2       0\n",
              "2          502  6.480741       8  ...     1.0          0       0\n",
              "3          699  6.244998       1  ...     0.0          0       0\n",
              "4          850  6.557439       2  ...     0.0          2       0\n",
              "\n",
              "[5 rows x 11 columns]"
            ]
          },
          "metadata": {
            "tags": []
          },
          "execution_count": 31
        }
      ]
    },
    {
      "cell_type": "code",
      "metadata": {
        "id": "y9gPRwLHHYRp"
      },
      "source": [
        "# creating features and label \n",
        "X = df_new.drop(\"Exited\",axis=1)\n",
        "y = df[\"Exited\"]"
      ],
      "execution_count": null,
      "outputs": []
    },
    {
      "cell_type": "code",
      "metadata": {
        "id": "LYonDN1OHmDc"
      },
      "source": [
        "# splitting data into training set and test set\n",
        "X_train, X_test, y_train, y_test = train_test_split(X, y, test_size = 0.3,random_state=1)"
      ],
      "execution_count": null,
      "outputs": []
    },
    {
      "cell_type": "code",
      "metadata": {
        "id": "eTK-HoqJHse9"
      },
      "source": [
        "# Scaling data\n",
        "sc = StandardScaler()\n",
        "X_train_ss = sc.fit_transform(X_train)\n",
        "X_test_ss = sc.transform(X_test)"
      ],
      "execution_count": null,
      "outputs": []
    },
    {
      "cell_type": "markdown",
      "metadata": {
        "id": "Uh-yLHFVIn1m"
      },
      "source": [
        "# Baseline model"
      ]
    },
    {
      "cell_type": "code",
      "metadata": {
        "id": "CWqsBf1QIo2L"
      },
      "source": [
        "# initializing ann\n",
        "base_model = Sequential()"
      ],
      "execution_count": null,
      "outputs": []
    },
    {
      "cell_type": "code",
      "metadata": {
        "id": "_l00_xpUIv0V"
      },
      "source": [
        "# adding the first input layer and the first hidden layer\n",
        "base_model.add(Dense(8,input_shape=(X.shape[1],),activation = 'relu'))"
      ],
      "execution_count": null,
      "outputs": []
    },
    {
      "cell_type": "code",
      "metadata": {
        "id": "FV-JDsQbI4F-"
      },
      "source": [
        "# adding the second hidden layer\n",
        "base_model.add(Dense(8,activation='relu'))"
      ],
      "execution_count": null,
      "outputs": []
    },
    {
      "cell_type": "code",
      "metadata": {
        "id": "XxubO8i0I8Ea"
      },
      "source": [
        "# adding third hidden layer\n",
        "base_model.add(Dense(4,activation='relu'))"
      ],
      "execution_count": null,
      "outputs": []
    },
    {
      "cell_type": "code",
      "metadata": {
        "id": "32PuXiaqJDPL"
      },
      "source": [
        "# adding the output layer\n",
        "base_model.add(Dense(1,activation = 'sigmoid'))"
      ],
      "execution_count": null,
      "outputs": []
    },
    {
      "cell_type": "code",
      "metadata": {
        "colab": {
          "base_uri": "https://localhost:8080/"
        },
        "id": "LyeTKa5RJ4Eg",
        "outputId": "211ca8c0-05b6-4621-d4b4-baccc1526d55"
      },
      "source": [
        "## model summary\n",
        "base_model.summary()"
      ],
      "execution_count": null,
      "outputs": [
        {
          "output_type": "stream",
          "text": [
            "Model: \"sequential\"\n",
            "_________________________________________________________________\n",
            "Layer (type)                 Output Shape              Param #   \n",
            "=================================================================\n",
            "dense (Dense)                (None, 8)                 88        \n",
            "_________________________________________________________________\n",
            "dense_1 (Dense)              (None, 8)                 72        \n",
            "_________________________________________________________________\n",
            "dense_2 (Dense)              (None, 4)                 36        \n",
            "_________________________________________________________________\n",
            "dense_3 (Dense)              (None, 1)                 5         \n",
            "=================================================================\n",
            "Total params: 201\n",
            "Trainable params: 201\n",
            "Non-trainable params: 0\n",
            "_________________________________________________________________\n"
          ],
          "name": "stdout"
        }
      ]
    },
    {
      "cell_type": "code",
      "metadata": {
        "id": "THLy5dZwJ_M2"
      },
      "source": [
        "base_model.compile(optimizer = 'adam', loss = 'binary_crossentropy')"
      ],
      "execution_count": null,
      "outputs": []
    },
    {
      "cell_type": "code",
      "metadata": {
        "colab": {
          "base_uri": "https://localhost:8080/"
        },
        "id": "BtvPQEhYKVZU",
        "outputId": "1f38a551-7ab4-4186-e2d9-24ec44f4e5b4"
      },
      "source": [
        "base_model_history = base_model.fit(X_train_ss,y_train,batch_size = 10, epochs = 100,validation_data=(X_train_ss,y_train))"
      ],
      "execution_count": null,
      "outputs": [
        {
          "output_type": "stream",
          "text": [
            "Epoch 1/100\n",
            "700/700 [==============================] - 2s 2ms/step - loss: 0.6066 - val_loss: 0.4605\n",
            "Epoch 2/100\n",
            "700/700 [==============================] - 1s 2ms/step - loss: 0.4511 - val_loss: 0.4268\n",
            "Epoch 3/100\n",
            "700/700 [==============================] - 1s 2ms/step - loss: 0.4206 - val_loss: 0.4121\n",
            "Epoch 4/100\n",
            "700/700 [==============================] - 1s 2ms/step - loss: 0.4045 - val_loss: 0.4066\n",
            "Epoch 5/100\n",
            "700/700 [==============================] - 1s 2ms/step - loss: 0.4071 - val_loss: 0.3983\n",
            "Epoch 6/100\n",
            "700/700 [==============================] - 1s 2ms/step - loss: 0.3954 - val_loss: 0.3938\n",
            "Epoch 7/100\n",
            "700/700 [==============================] - 1s 2ms/step - loss: 0.3856 - val_loss: 0.3887\n",
            "Epoch 8/100\n",
            "700/700 [==============================] - 1s 2ms/step - loss: 0.3889 - val_loss: 0.3842\n",
            "Epoch 9/100\n",
            "700/700 [==============================] - 1s 2ms/step - loss: 0.3733 - val_loss: 0.3802\n",
            "Epoch 10/100\n",
            "700/700 [==============================] - 1s 2ms/step - loss: 0.3809 - val_loss: 0.3774\n",
            "Epoch 11/100\n",
            "700/700 [==============================] - 1s 2ms/step - loss: 0.3784 - val_loss: 0.3730\n",
            "Epoch 12/100\n",
            "700/700 [==============================] - 1s 2ms/step - loss: 0.3711 - val_loss: 0.3701\n",
            "Epoch 13/100\n",
            "700/700 [==============================] - 1s 2ms/step - loss: 0.3767 - val_loss: 0.3670\n",
            "Epoch 14/100\n",
            "700/700 [==============================] - 1s 2ms/step - loss: 0.3704 - val_loss: 0.3659\n",
            "Epoch 15/100\n",
            "700/700 [==============================] - 1s 2ms/step - loss: 0.3704 - val_loss: 0.3672\n",
            "Epoch 16/100\n",
            "700/700 [==============================] - 1s 2ms/step - loss: 0.3727 - val_loss: 0.3615\n",
            "Epoch 17/100\n",
            "700/700 [==============================] - 1s 2ms/step - loss: 0.3606 - val_loss: 0.3578\n",
            "Epoch 18/100\n",
            "700/700 [==============================] - 1s 2ms/step - loss: 0.3533 - val_loss: 0.3551\n",
            "Epoch 19/100\n",
            "700/700 [==============================] - 1s 2ms/step - loss: 0.3500 - val_loss: 0.3575\n",
            "Epoch 20/100\n",
            "700/700 [==============================] - 1s 2ms/step - loss: 0.3584 - val_loss: 0.3523\n",
            "Epoch 21/100\n",
            "700/700 [==============================] - 1s 2ms/step - loss: 0.3584 - val_loss: 0.3502\n",
            "Epoch 22/100\n",
            "700/700 [==============================] - 1s 2ms/step - loss: 0.3522 - val_loss: 0.3505\n",
            "Epoch 23/100\n",
            "700/700 [==============================] - 1s 2ms/step - loss: 0.3539 - val_loss: 0.3467\n",
            "Epoch 24/100\n",
            "700/700 [==============================] - 1s 2ms/step - loss: 0.3467 - val_loss: 0.3459\n",
            "Epoch 25/100\n",
            "700/700 [==============================] - 1s 2ms/step - loss: 0.3474 - val_loss: 0.3514\n",
            "Epoch 26/100\n",
            "700/700 [==============================] - 1s 2ms/step - loss: 0.3511 - val_loss: 0.3472\n",
            "Epoch 27/100\n",
            "700/700 [==============================] - 1s 2ms/step - loss: 0.3455 - val_loss: 0.3513\n",
            "Epoch 28/100\n",
            "700/700 [==============================] - 1s 2ms/step - loss: 0.3508 - val_loss: 0.3417\n",
            "Epoch 29/100\n",
            "700/700 [==============================] - 1s 2ms/step - loss: 0.3465 - val_loss: 0.3415\n",
            "Epoch 30/100\n",
            "700/700 [==============================] - 1s 2ms/step - loss: 0.3412 - val_loss: 0.3410\n",
            "Epoch 31/100\n",
            "700/700 [==============================] - 1s 2ms/step - loss: 0.3470 - val_loss: 0.3422\n",
            "Epoch 32/100\n",
            "700/700 [==============================] - 1s 2ms/step - loss: 0.3403 - val_loss: 0.3383\n",
            "Epoch 33/100\n",
            "700/700 [==============================] - 1s 2ms/step - loss: 0.3440 - val_loss: 0.3387\n",
            "Epoch 34/100\n",
            "700/700 [==============================] - 1s 2ms/step - loss: 0.3415 - val_loss: 0.3379\n",
            "Epoch 35/100\n",
            "700/700 [==============================] - 1s 2ms/step - loss: 0.3454 - val_loss: 0.3383\n",
            "Epoch 36/100\n",
            "700/700 [==============================] - 1s 2ms/step - loss: 0.3466 - val_loss: 0.3374\n",
            "Epoch 37/100\n",
            "700/700 [==============================] - 1s 2ms/step - loss: 0.3317 - val_loss: 0.3382\n",
            "Epoch 38/100\n",
            "700/700 [==============================] - 1s 2ms/step - loss: 0.3411 - val_loss: 0.3390\n",
            "Epoch 39/100\n",
            "700/700 [==============================] - 1s 2ms/step - loss: 0.3400 - val_loss: 0.3374\n",
            "Epoch 40/100\n",
            "700/700 [==============================] - 1s 2ms/step - loss: 0.3494 - val_loss: 0.3359\n",
            "Epoch 41/100\n",
            "700/700 [==============================] - 1s 2ms/step - loss: 0.3417 - val_loss: 0.3347\n",
            "Epoch 42/100\n",
            "700/700 [==============================] - 1s 2ms/step - loss: 0.3453 - val_loss: 0.3346\n",
            "Epoch 43/100\n",
            "700/700 [==============================] - 1s 2ms/step - loss: 0.3341 - val_loss: 0.3372\n",
            "Epoch 44/100\n",
            "700/700 [==============================] - 1s 2ms/step - loss: 0.3169 - val_loss: 0.3341\n",
            "Epoch 45/100\n",
            "700/700 [==============================] - 1s 2ms/step - loss: 0.3319 - val_loss: 0.3340\n",
            "Epoch 46/100\n",
            "700/700 [==============================] - 1s 2ms/step - loss: 0.3413 - val_loss: 0.3338\n",
            "Epoch 47/100\n",
            "700/700 [==============================] - 1s 2ms/step - loss: 0.3289 - val_loss: 0.3350\n",
            "Epoch 48/100\n",
            "700/700 [==============================] - 1s 2ms/step - loss: 0.3452 - val_loss: 0.3335\n",
            "Epoch 49/100\n",
            "700/700 [==============================] - 1s 2ms/step - loss: 0.3320 - val_loss: 0.3330\n",
            "Epoch 50/100\n",
            "700/700 [==============================] - 1s 2ms/step - loss: 0.3426 - val_loss: 0.3337\n",
            "Epoch 51/100\n",
            "700/700 [==============================] - 1s 2ms/step - loss: 0.3286 - val_loss: 0.3319\n",
            "Epoch 52/100\n",
            "700/700 [==============================] - 1s 2ms/step - loss: 0.3256 - val_loss: 0.3324\n",
            "Epoch 53/100\n",
            "700/700 [==============================] - 1s 2ms/step - loss: 0.3374 - val_loss: 0.3350\n",
            "Epoch 54/100\n",
            "700/700 [==============================] - 1s 2ms/step - loss: 0.3337 - val_loss: 0.3308\n",
            "Epoch 55/100\n",
            "700/700 [==============================] - 1s 2ms/step - loss: 0.3512 - val_loss: 0.3359\n",
            "Epoch 56/100\n",
            "700/700 [==============================] - 1s 2ms/step - loss: 0.3375 - val_loss: 0.3314\n",
            "Epoch 57/100\n",
            "700/700 [==============================] - 1s 2ms/step - loss: 0.3350 - val_loss: 0.3329\n",
            "Epoch 58/100\n",
            "700/700 [==============================] - 1s 2ms/step - loss: 0.3273 - val_loss: 0.3328\n",
            "Epoch 59/100\n",
            "700/700 [==============================] - 1s 2ms/step - loss: 0.3442 - val_loss: 0.3310\n",
            "Epoch 60/100\n",
            "700/700 [==============================] - 1s 2ms/step - loss: 0.3302 - val_loss: 0.3369\n",
            "Epoch 61/100\n",
            "700/700 [==============================] - 1s 2ms/step - loss: 0.3396 - val_loss: 0.3308\n",
            "Epoch 62/100\n",
            "700/700 [==============================] - 1s 2ms/step - loss: 0.3318 - val_loss: 0.3309\n",
            "Epoch 63/100\n",
            "700/700 [==============================] - 1s 2ms/step - loss: 0.3248 - val_loss: 0.3319\n",
            "Epoch 64/100\n",
            "700/700 [==============================] - 1s 2ms/step - loss: 0.3283 - val_loss: 0.3298\n",
            "Epoch 65/100\n",
            "700/700 [==============================] - 1s 2ms/step - loss: 0.3353 - val_loss: 0.3295\n",
            "Epoch 66/100\n",
            "700/700 [==============================] - 1s 2ms/step - loss: 0.3379 - val_loss: 0.3293\n",
            "Epoch 67/100\n",
            "700/700 [==============================] - 1s 2ms/step - loss: 0.3268 - val_loss: 0.3312\n",
            "Epoch 68/100\n",
            "700/700 [==============================] - 1s 2ms/step - loss: 0.3382 - val_loss: 0.3310\n",
            "Epoch 69/100\n",
            "700/700 [==============================] - 1s 2ms/step - loss: 0.3308 - val_loss: 0.3291\n",
            "Epoch 70/100\n",
            "700/700 [==============================] - 1s 2ms/step - loss: 0.3316 - val_loss: 0.3303\n",
            "Epoch 71/100\n",
            "700/700 [==============================] - 1s 2ms/step - loss: 0.3215 - val_loss: 0.3328\n",
            "Epoch 72/100\n",
            "700/700 [==============================] - 1s 2ms/step - loss: 0.3285 - val_loss: 0.3298\n",
            "Epoch 73/100\n",
            "700/700 [==============================] - 1s 2ms/step - loss: 0.3269 - val_loss: 0.3277\n",
            "Epoch 74/100\n",
            "700/700 [==============================] - 1s 2ms/step - loss: 0.3283 - val_loss: 0.3281\n",
            "Epoch 75/100\n",
            "700/700 [==============================] - 1s 2ms/step - loss: 0.3227 - val_loss: 0.3290\n",
            "Epoch 76/100\n",
            "700/700 [==============================] - 1s 2ms/step - loss: 0.3297 - val_loss: 0.3294\n",
            "Epoch 77/100\n",
            "700/700 [==============================] - 1s 2ms/step - loss: 0.3346 - val_loss: 0.3300\n",
            "Epoch 78/100\n",
            "700/700 [==============================] - 1s 2ms/step - loss: 0.3185 - val_loss: 0.3293\n",
            "Epoch 79/100\n",
            "700/700 [==============================] - 1s 2ms/step - loss: 0.3328 - val_loss: 0.3265\n",
            "Epoch 80/100\n",
            "700/700 [==============================] - 1s 2ms/step - loss: 0.3343 - val_loss: 0.3283\n",
            "Epoch 81/100\n",
            "700/700 [==============================] - 1s 2ms/step - loss: 0.3316 - val_loss: 0.3280\n",
            "Epoch 82/100\n",
            "700/700 [==============================] - 1s 2ms/step - loss: 0.3341 - val_loss: 0.3283\n",
            "Epoch 83/100\n",
            "700/700 [==============================] - 1s 2ms/step - loss: 0.3252 - val_loss: 0.3290\n",
            "Epoch 84/100\n",
            "700/700 [==============================] - 1s 2ms/step - loss: 0.3386 - val_loss: 0.3307\n",
            "Epoch 85/100\n",
            "700/700 [==============================] - 1s 2ms/step - loss: 0.3299 - val_loss: 0.3273\n",
            "Epoch 86/100\n",
            "700/700 [==============================] - 1s 2ms/step - loss: 0.3227 - val_loss: 0.3265\n",
            "Epoch 87/100\n",
            "700/700 [==============================] - 1s 2ms/step - loss: 0.3283 - val_loss: 0.3279\n",
            "Epoch 88/100\n",
            "700/700 [==============================] - 1s 2ms/step - loss: 0.3176 - val_loss: 0.3263\n",
            "Epoch 89/100\n",
            "700/700 [==============================] - 1s 2ms/step - loss: 0.3346 - val_loss: 0.3306\n",
            "Epoch 90/100\n",
            "700/700 [==============================] - 1s 2ms/step - loss: 0.3271 - val_loss: 0.3296\n",
            "Epoch 91/100\n",
            "700/700 [==============================] - 1s 2ms/step - loss: 0.3234 - val_loss: 0.3261\n",
            "Epoch 92/100\n",
            "700/700 [==============================] - 1s 2ms/step - loss: 0.3172 - val_loss: 0.3292\n",
            "Epoch 93/100\n",
            "700/700 [==============================] - 1s 2ms/step - loss: 0.3264 - val_loss: 0.3269\n",
            "Epoch 94/100\n",
            "700/700 [==============================] - 1s 2ms/step - loss: 0.3338 - val_loss: 0.3270\n",
            "Epoch 95/100\n",
            "700/700 [==============================] - 1s 2ms/step - loss: 0.3346 - val_loss: 0.3281\n",
            "Epoch 96/100\n",
            "700/700 [==============================] - 1s 2ms/step - loss: 0.3158 - val_loss: 0.3263\n",
            "Epoch 97/100\n",
            "700/700 [==============================] - 1s 2ms/step - loss: 0.3325 - val_loss: 0.3257\n",
            "Epoch 98/100\n",
            "700/700 [==============================] - 1s 2ms/step - loss: 0.3226 - val_loss: 0.3263\n",
            "Epoch 99/100\n",
            "700/700 [==============================] - 1s 2ms/step - loss: 0.3211 - val_loss: 0.3281\n",
            "Epoch 100/100\n",
            "700/700 [==============================] - 1s 2ms/step - loss: 0.3276 - val_loss: 0.3254\n"
          ],
          "name": "stdout"
        }
      ]
    },
    {
      "cell_type": "code",
      "metadata": {
        "colab": {
          "base_uri": "https://localhost:8080/",
          "height": 500
        },
        "id": "80i68_gHKdEU",
        "outputId": "c2a6013f-b01f-46c5-aea5-25309fef1ca3"
      },
      "source": [
        "fig , ax = plt.subplots(figsize=(8,8))\n",
        "plt.plot(base_model_history.history['loss'], label='loss')\n",
        "plt.plot(base_model_history.history['val_loss'],label='val_score',linestyle='--')\n",
        "plt.legend()"
      ],
      "execution_count": null,
      "outputs": [
        {
          "output_type": "execute_result",
          "data": {
            "text/plain": [
              "<matplotlib.legend.Legend at 0x7ff3e9305490>"
            ]
          },
          "metadata": {
            "tags": []
          },
          "execution_count": 47
        },
        {
          "output_type": "display_data",
          "data": {
            "image/png": "[encoded data removed]",
            "text/plain": [
              "<Figure size 576x576 with 1 Axes>"
            ]
          },
          "metadata": {
            "tags": [],
            "needs_background": "light"
          }
        }
      ]
    },
    {
      "cell_type": "code",
      "metadata": {
        "id": "EYMUsufJLSt-"
      },
      "source": [
        "y_pred_base = base_model.predict(X_test_ss)"
      ],
      "execution_count": null,
      "outputs": []
    },
    {
      "cell_type": "code",
      "metadata": {
        "id": "cXOqkPfWLcBg"
      },
      "source": [
        "y_pred_base = np.where(y_pred_base>0.5,1,0)"
      ],
      "execution_count": null,
      "outputs": []
    },
    {
      "cell_type": "code",
      "metadata": {
        "colab": {
          "base_uri": "https://localhost:8080/"
        },
        "id": "GyZ40OVZLjDz",
        "outputId": "b8ed1eaa-d93c-4acf-ed19-63c4b05ccd4d"
      },
      "source": [
        "print(classification_report(y_test,y_pred_base))"
      ],
      "execution_count": null,
      "outputs": [
        {
          "output_type": "stream",
          "text": [
            "              precision    recall  f1-score   support\n",
            "\n",
            "           0       0.87      0.96      0.92      2373\n",
            "           1       0.78      0.47      0.58       627\n",
            "\n",
            "    accuracy                           0.86      3000\n",
            "   macro avg       0.82      0.72      0.75      3000\n",
            "weighted avg       0.85      0.86      0.85      3000\n",
            "\n"
          ],
          "name": "stdout"
        }
      ]
    },
    {
      "cell_type": "code",
      "metadata": {
        "colab": {
          "base_uri": "https://localhost:8080/",
          "height": 282
        },
        "id": "1BKKh4w0Ln5B",
        "outputId": "00f48af8-aae2-4347-bc99-cc4e64e35e7e"
      },
      "source": [
        "mat = confusion_matrix(y_test,y_pred_base)\n",
        "sns.heatmap(mat,annot=True,fmt='d')"
      ],
      "execution_count": null,
      "outputs": [
        {
          "output_type": "execute_result",
          "data": {
            "text/plain": [
              "<matplotlib.axes._subplots.AxesSubplot at 0x7ff3e3ff1710>"
            ]
          },
          "metadata": {
            "tags": []
          },
          "execution_count": 53
        },
        {
          "output_type": "display_data",
          "data": {
            "image/png": "[encoded data removed]",
            "text/plain": [
              "<Figure size 432x288 with 2 Axes>"
            ]
          },
          "metadata": {
            "tags": [],
            "needs_background": "light"
          }
        }
      ]
    },
    {
      "cell_type": "markdown",
      "metadata": {
        "id": "eE2dODoyMPkB"
      },
      "source": [
        "Accuracy of model is 86%"
      ]
    },
    {
      "cell_type": "code",
      "metadata": {
        "colab": {
          "base_uri": "https://localhost:8080/",
          "height": 265
        },
        "id": "XWBHiiE-MQtb",
        "outputId": "fa6f1a04-ac0e-4d82-bb12-3b1b141307c1"
      },
      "source": [
        "y.value_counts().plot.pie(autopct=\"%.1f%%\")"
      ],
      "execution_count": null,
      "outputs": [
        {
          "output_type": "execute_result",
          "data": {
            "text/plain": [
              "<matplotlib.axes._subplots.AxesSubplot at 0x7ff3dc59c410>"
            ]
          },
          "metadata": {
            "tags": []
          },
          "execution_count": 56
        },
        {
          "output_type": "display_data",
          "data": {
            "image/png": "[encoded data removed]",
            "text/plain": [
              "<Figure size 432x288 with 1 Axes>"
            ]
          },
          "metadata": {
            "tags": []
          }
        }
      ]
    },
    {
      "cell_type": "markdown",
      "metadata": {
        "id": "CZZ8FfTbMvOa"
      },
      "source": [
        "We can see that there is imbalanced data"
      ]
    },
    {
      "cell_type": "markdown",
      "metadata": {
        "id": "kTyB2hVfM21Z"
      },
      "source": [
        "# Handling imbalanced data"
      ]
    },
    {
      "cell_type": "markdown",
      "metadata": {
        "id": "RatSBPZfNE2P"
      },
      "source": [
        "Oversampling"
      ]
    },
    {
      "cell_type": "code",
      "metadata": {
        "id": "5dFGrZ_-NFd-"
      },
      "source": [
        "from imblearn.over_sampling import RandomOverSampler"
      ],
      "execution_count": null,
      "outputs": []
    },
    {
      "cell_type": "code",
      "metadata": {
        "id": "ssn9CGOPNMlU"
      },
      "source": [
        "ros = RandomOverSampler(random_state=1)"
      ],
      "execution_count": null,
      "outputs": []
    },
    {
      "cell_type": "code",
      "metadata": {
        "id": "h7c2GwIHNUyD"
      },
      "source": [
        "X_sample_1,y_sample_1 = ros.fit_resample(X_train_ss,y_train)"
      ],
      "execution_count": null,
      "outputs": []
    },
    {
      "cell_type": "code",
      "metadata": {
        "colab": {
          "base_uri": "https://localhost:8080/"
        },
        "id": "QgcX8ASlNZYy",
        "outputId": "14719f12-97f5-474f-adf3-f03d3e0f3c57"
      },
      "source": [
        "pd.Series(y_sample_1).value_counts()"
      ],
      "execution_count": null,
      "outputs": [
        {
          "output_type": "execute_result",
          "data": {
            "text/plain": [
              "1    5590\n",
              "0    5590\n",
              "dtype: int64"
            ]
          },
          "metadata": {
            "tags": []
          },
          "execution_count": 63
        }
      ]
    },
    {
      "cell_type": "markdown",
      "metadata": {
        "id": "aML7mfR7NqZ2"
      },
      "source": [
        "Undersampling\n"
      ]
    },
    {
      "cell_type": "code",
      "metadata": {
        "id": "aeVSr46MNvwv"
      },
      "source": [
        "from imblearn.under_sampling import RandomUnderSampler"
      ],
      "execution_count": null,
      "outputs": []
    },
    {
      "cell_type": "code",
      "metadata": {
        "id": "qxwbgbE-NzOE"
      },
      "source": [
        "rus = RandomUnderSampler(random_state=1)"
      ],
      "execution_count": null,
      "outputs": []
    },
    {
      "cell_type": "code",
      "metadata": {
        "id": "SYrnzeBEN4P4"
      },
      "source": [
        "X_sample_2,y_sample_2 = rus.fit_resample(X_train_ss,y_train)"
      ],
      "execution_count": null,
      "outputs": []
    },
    {
      "cell_type": "code",
      "metadata": {
        "colab": {
          "base_uri": "https://localhost:8080/"
        },
        "id": "6jkk05tGN7Gx",
        "outputId": "03cc6331-724a-4b9a-cc4a-5202f288f2d5"
      },
      "source": [
        "pd.Series(y_sample_2).value_counts()"
      ],
      "execution_count": null,
      "outputs": [
        {
          "output_type": "execute_result",
          "data": {
            "text/plain": [
              "1    1410\n",
              "0    1410\n",
              "dtype: int64"
            ]
          },
          "metadata": {
            "tags": []
          },
          "execution_count": 68
        }
      ]
    },
    {
      "cell_type": "markdown",
      "metadata": {
        "id": "QfemOv3lOI7q"
      },
      "source": [
        "# Building ANN"
      ]
    },
    {
      "cell_type": "markdown",
      "metadata": {
        "id": "Nx1W4ZvYOcfl"
      },
      "source": [
        "ANN with Oversampling"
      ]
    },
    {
      "cell_type": "code",
      "metadata": {
        "id": "-5uJ6kqJOig3"
      },
      "source": [
        "# initializing ann\n",
        "model = Sequential()"
      ],
      "execution_count": null,
      "outputs": []
    },
    {
      "cell_type": "code",
      "metadata": {
        "id": "fFHgjeKgOm0m"
      },
      "source": [
        "# adding the first input layer and the first hidden layer\n",
        "model.add(Dense(8,input_shape=(X.shape[1],),activation = 'relu'))"
      ],
      "execution_count": null,
      "outputs": []
    },
    {
      "cell_type": "code",
      "metadata": {
        "id": "6kJva1nQOqIB"
      },
      "source": [
        "# adding the second hidden layer\n",
        "model.add(Dense(8,activation='relu'))"
      ],
      "execution_count": null,
      "outputs": []
    },
    {
      "cell_type": "code",
      "metadata": {
        "id": "jO0LwnngOtLr"
      },
      "source": [
        "# adding third hidden layer\n",
        "model.add(Dense(4,activation='relu'))"
      ],
      "execution_count": null,
      "outputs": []
    },
    {
      "cell_type": "code",
      "metadata": {
        "id": "ifGnvfz5Ow3w"
      },
      "source": [
        "# adding the output layer\n",
        "model.add(Dense(1,activation = 'sigmoid'))"
      ],
      "execution_count": null,
      "outputs": []
    },
    {
      "cell_type": "code",
      "metadata": {
        "colab": {
          "base_uri": "https://localhost:8080/"
        },
        "id": "yMkBJNo7Ozep",
        "outputId": "5bcf698a-0fd9-474b-85fc-e4b719baeb48"
      },
      "source": [
        "## model summary\n",
        "model.summary()"
      ],
      "execution_count": null,
      "outputs": [
        {
          "output_type": "stream",
          "text": [
            "Model: \"sequential_1\"\n",
            "_________________________________________________________________\n",
            "Layer (type)                 Output Shape              Param #   \n",
            "=================================================================\n",
            "dense_4 (Dense)              (None, 8)                 88        \n",
            "_________________________________________________________________\n",
            "dense_5 (Dense)              (None, 8)                 72        \n",
            "_________________________________________________________________\n",
            "dense_6 (Dense)              (None, 4)                 36        \n",
            "_________________________________________________________________\n",
            "dense_7 (Dense)              (None, 1)                 5         \n",
            "=================================================================\n",
            "Total params: 201\n",
            "Trainable params: 201\n",
            "Non-trainable params: 0\n",
            "_________________________________________________________________\n"
          ],
          "name": "stdout"
        }
      ]
    },
    {
      "cell_type": "code",
      "metadata": {
        "id": "Yhhl2HELO2Up"
      },
      "source": [
        "# compiling the model\n",
        "model.compile(optimizer = 'adam', loss = 'binary_crossentropy')"
      ],
      "execution_count": null,
      "outputs": []
    },
    {
      "cell_type": "code",
      "metadata": {
        "colab": {
          "base_uri": "https://localhost:8080/"
        },
        "id": "OnrP0qrZPbgL",
        "outputId": "b9f7d17d-1177-43df-d877-87c7b5d6cdb5"
      },
      "source": [
        "model_history = model.fit(X_sample_1,y_sample_1, batch_size = 10, epochs = 100,validation_data=(X_sample_1,y_sample_1))"
      ],
      "execution_count": null,
      "outputs": [
        {
          "output_type": "stream",
          "text": [
            "Epoch 1/100\n",
            "1118/1118 [==============================] - 2s 2ms/step - loss: 0.6505 - val_loss: 0.5473\n",
            "Epoch 2/100\n",
            "1118/1118 [==============================] - 2s 2ms/step - loss: 0.5349 - val_loss: 0.5035\n",
            "Epoch 3/100\n",
            "1118/1118 [==============================] - 2s 2ms/step - loss: 0.5061 - val_loss: 0.4918\n",
            "Epoch 4/100\n",
            "1118/1118 [==============================] - 2s 2ms/step - loss: 0.4953 - val_loss: 0.4843\n",
            "Epoch 5/100\n",
            "1118/1118 [==============================] - 2s 2ms/step - loss: 0.4880 - val_loss: 0.4801\n",
            "Epoch 6/100\n",
            "1118/1118 [==============================] - 2s 2ms/step - loss: 0.4730 - val_loss: 0.4771\n",
            "Epoch 7/100\n",
            "1118/1118 [==============================] - 2s 2ms/step - loss: 0.4792 - val_loss: 0.4741\n",
            "Epoch 8/100\n",
            "1118/1118 [==============================] - 2s 2ms/step - loss: 0.4739 - val_loss: 0.4719\n",
            "Epoch 9/100\n",
            "1118/1118 [==============================] - 2s 2ms/step - loss: 0.4671 - val_loss: 0.4706\n",
            "Epoch 10/100\n",
            "1118/1118 [==============================] - 2s 2ms/step - loss: 0.4716 - val_loss: 0.4733\n",
            "Epoch 11/100\n",
            "1118/1118 [==============================] - 2s 2ms/step - loss: 0.4735 - val_loss: 0.4669\n",
            "Epoch 12/100\n",
            "1118/1118 [==============================] - 2s 2ms/step - loss: 0.4695 - val_loss: 0.4654\n",
            "Epoch 13/100\n",
            "1118/1118 [==============================] - 2s 2ms/step - loss: 0.4679 - val_loss: 0.4651\n",
            "Epoch 14/100\n",
            "1118/1118 [==============================] - 2s 2ms/step - loss: 0.4638 - val_loss: 0.4648\n",
            "Epoch 15/100\n",
            "1118/1118 [==============================] - 2s 2ms/step - loss: 0.4652 - val_loss: 0.4613\n",
            "Epoch 16/100\n",
            "1118/1118 [==============================] - 2s 2ms/step - loss: 0.4636 - val_loss: 0.4599\n",
            "Epoch 17/100\n",
            "1118/1118 [==============================] - 2s 2ms/step - loss: 0.4642 - val_loss: 0.4595\n",
            "Epoch 18/100\n",
            "1118/1118 [==============================] - 2s 2ms/step - loss: 0.4662 - val_loss: 0.4594\n",
            "Epoch 19/100\n",
            "1118/1118 [==============================] - 2s 2ms/step - loss: 0.4603 - val_loss: 0.4578\n",
            "Epoch 20/100\n",
            "1118/1118 [==============================] - 2s 2ms/step - loss: 0.4560 - val_loss: 0.4567\n",
            "Epoch 21/100\n",
            "1118/1118 [==============================] - 2s 2ms/step - loss: 0.4606 - val_loss: 0.4570\n",
            "Epoch 22/100\n",
            "1118/1118 [==============================] - 2s 2ms/step - loss: 0.4495 - val_loss: 0.4553\n",
            "Epoch 23/100\n",
            "1118/1118 [==============================] - 2s 2ms/step - loss: 0.4641 - val_loss: 0.4585\n",
            "Epoch 24/100\n",
            "1118/1118 [==============================] - 2s 2ms/step - loss: 0.4580 - val_loss: 0.4584\n",
            "Epoch 25/100\n",
            "1118/1118 [==============================] - 2s 2ms/step - loss: 0.4637 - val_loss: 0.4542\n",
            "Epoch 26/100\n",
            "1118/1118 [==============================] - 2s 2ms/step - loss: 0.4569 - val_loss: 0.4533\n",
            "Epoch 27/100\n",
            "1118/1118 [==============================] - 2s 2ms/step - loss: 0.4602 - val_loss: 0.4537\n",
            "Epoch 28/100\n",
            "1118/1118 [==============================] - 2s 2ms/step - loss: 0.4573 - val_loss: 0.4540\n",
            "Epoch 29/100\n",
            "1118/1118 [==============================] - 2s 2ms/step - loss: 0.4528 - val_loss: 0.4516\n",
            "Epoch 30/100\n",
            "1118/1118 [==============================] - 2s 2ms/step - loss: 0.4528 - val_loss: 0.4509\n",
            "Epoch 31/100\n",
            "1118/1118 [==============================] - 2s 2ms/step - loss: 0.4514 - val_loss: 0.4505\n",
            "Epoch 32/100\n",
            "1118/1118 [==============================] - 2s 2ms/step - loss: 0.4498 - val_loss: 0.4489\n",
            "Epoch 33/100\n",
            "1118/1118 [==============================] - 2s 2ms/step - loss: 0.4557 - val_loss: 0.4478\n",
            "Epoch 34/100\n",
            "1118/1118 [==============================] - 2s 2ms/step - loss: 0.4430 - val_loss: 0.4477\n",
            "Epoch 35/100\n",
            "1118/1118 [==============================] - 2s 2ms/step - loss: 0.4464 - val_loss: 0.4509\n",
            "Epoch 36/100\n",
            "1118/1118 [==============================] - 2s 2ms/step - loss: 0.4550 - val_loss: 0.4481\n",
            "Epoch 37/100\n",
            "1118/1118 [==============================] - 2s 2ms/step - loss: 0.4470 - val_loss: 0.4476\n",
            "Epoch 38/100\n",
            "1118/1118 [==============================] - 2s 2ms/step - loss: 0.4539 - val_loss: 0.4451\n",
            "Epoch 39/100\n",
            "1118/1118 [==============================] - 2s 2ms/step - loss: 0.4458 - val_loss: 0.4438\n",
            "Epoch 40/100\n",
            "1118/1118 [==============================] - 2s 2ms/step - loss: 0.4513 - val_loss: 0.4439\n",
            "Epoch 41/100\n",
            "1118/1118 [==============================] - 2s 2ms/step - loss: 0.4564 - val_loss: 0.4463\n",
            "Epoch 42/100\n",
            "1118/1118 [==============================] - 2s 2ms/step - loss: 0.4429 - val_loss: 0.4428\n",
            "Epoch 43/100\n",
            "1118/1118 [==============================] - 2s 2ms/step - loss: 0.4543 - val_loss: 0.4415\n",
            "Epoch 44/100\n",
            "1118/1118 [==============================] - 2s 2ms/step - loss: 0.4481 - val_loss: 0.4428\n",
            "Epoch 45/100\n",
            "1118/1118 [==============================] - 2s 2ms/step - loss: 0.4519 - val_loss: 0.4403\n",
            "Epoch 46/100\n",
            "1118/1118 [==============================] - 2s 2ms/step - loss: 0.4489 - val_loss: 0.4417\n",
            "Epoch 47/100\n",
            "1118/1118 [==============================] - 2s 2ms/step - loss: 0.4404 - val_loss: 0.4405\n",
            "Epoch 48/100\n",
            "1118/1118 [==============================] - 2s 2ms/step - loss: 0.4478 - val_loss: 0.4390\n",
            "Epoch 49/100\n",
            "1118/1118 [==============================] - 2s 2ms/step - loss: 0.4391 - val_loss: 0.4400\n",
            "Epoch 50/100\n",
            "1118/1118 [==============================] - 2s 2ms/step - loss: 0.4378 - val_loss: 0.4376\n",
            "Epoch 51/100\n",
            "1118/1118 [==============================] - 2s 2ms/step - loss: 0.4438 - val_loss: 0.4384\n",
            "Epoch 52/100\n",
            "1118/1118 [==============================] - 2s 2ms/step - loss: 0.4322 - val_loss: 0.4387\n",
            "Epoch 53/100\n",
            "1118/1118 [==============================] - 2s 2ms/step - loss: 0.4440 - val_loss: 0.4384\n",
            "Epoch 54/100\n",
            "1118/1118 [==============================] - 2s 2ms/step - loss: 0.4338 - val_loss: 0.4423\n",
            "Epoch 55/100\n",
            "1118/1118 [==============================] - 2s 2ms/step - loss: 0.4450 - val_loss: 0.4395\n",
            "Epoch 56/100\n",
            "1118/1118 [==============================] - 2s 2ms/step - loss: 0.4449 - val_loss: 0.4385\n",
            "Epoch 57/100\n",
            "1118/1118 [==============================] - 2s 2ms/step - loss: 0.4335 - val_loss: 0.4373\n",
            "Epoch 58/100\n",
            "1118/1118 [==============================] - 2s 2ms/step - loss: 0.4326 - val_loss: 0.4402\n",
            "Epoch 59/100\n",
            "1118/1118 [==============================] - 2s 2ms/step - loss: 0.4370 - val_loss: 0.4371\n",
            "Epoch 60/100\n",
            "1118/1118 [==============================] - 2s 2ms/step - loss: 0.4353 - val_loss: 0.4349\n",
            "Epoch 61/100\n",
            "1118/1118 [==============================] - 2s 2ms/step - loss: 0.4354 - val_loss: 0.4378\n",
            "Epoch 62/100\n",
            "1118/1118 [==============================] - 2s 2ms/step - loss: 0.4337 - val_loss: 0.4361\n",
            "Epoch 63/100\n",
            "1118/1118 [==============================] - 2s 2ms/step - loss: 0.4381 - val_loss: 0.4352\n",
            "Epoch 64/100\n",
            "1118/1118 [==============================] - 2s 2ms/step - loss: 0.4359 - val_loss: 0.4357\n",
            "Epoch 65/100\n",
            "1118/1118 [==============================] - 2s 2ms/step - loss: 0.4376 - val_loss: 0.4356\n",
            "Epoch 66/100\n",
            "1118/1118 [==============================] - 2s 2ms/step - loss: 0.4310 - val_loss: 0.4381\n",
            "Epoch 67/100\n",
            "1118/1118 [==============================] - 2s 2ms/step - loss: 0.4394 - val_loss: 0.4347\n",
            "Epoch 68/100\n",
            "1118/1118 [==============================] - 2s 2ms/step - loss: 0.4364 - val_loss: 0.4333\n",
            "Epoch 69/100\n",
            "1118/1118 [==============================] - 2s 2ms/step - loss: 0.4380 - val_loss: 0.4334\n",
            "Epoch 70/100\n",
            "1118/1118 [==============================] - 2s 2ms/step - loss: 0.4348 - val_loss: 0.4318\n",
            "Epoch 71/100\n",
            "1118/1118 [==============================] - 2s 2ms/step - loss: 0.4406 - val_loss: 0.4317\n",
            "Epoch 72/100\n",
            "1118/1118 [==============================] - 2s 2ms/step - loss: 0.4440 - val_loss: 0.4311\n",
            "Epoch 73/100\n",
            "1118/1118 [==============================] - 2s 2ms/step - loss: 0.4314 - val_loss: 0.4318\n",
            "Epoch 74/100\n",
            "1118/1118 [==============================] - 2s 2ms/step - loss: 0.4333 - val_loss: 0.4313\n",
            "Epoch 75/100\n",
            "1118/1118 [==============================] - 2s 2ms/step - loss: 0.4394 - val_loss: 0.4312\n",
            "Epoch 76/100\n",
            "1118/1118 [==============================] - 2s 2ms/step - loss: 0.4330 - val_loss: 0.4366\n",
            "Epoch 77/100\n",
            "1118/1118 [==============================] - 2s 2ms/step - loss: 0.4371 - val_loss: 0.4311\n",
            "Epoch 78/100\n",
            "1118/1118 [==============================] - 2s 2ms/step - loss: 0.4233 - val_loss: 0.4300\n",
            "Epoch 79/100\n",
            "1118/1118 [==============================] - 2s 2ms/step - loss: 0.4343 - val_loss: 0.4300\n",
            "Epoch 80/100\n",
            "1118/1118 [==============================] - 2s 2ms/step - loss: 0.4318 - val_loss: 0.4292\n",
            "Epoch 81/100\n",
            "1118/1118 [==============================] - 2s 2ms/step - loss: 0.4364 - val_loss: 0.4302\n",
            "Epoch 82/100\n",
            "1118/1118 [==============================] - 2s 2ms/step - loss: 0.4330 - val_loss: 0.4293\n",
            "Epoch 83/100\n",
            "1118/1118 [==============================] - 2s 2ms/step - loss: 0.4323 - val_loss: 0.4315\n",
            "Epoch 84/100\n",
            "1118/1118 [==============================] - 2s 2ms/step - loss: 0.4344 - val_loss: 0.4271\n",
            "Epoch 85/100\n",
            "1118/1118 [==============================] - 2s 2ms/step - loss: 0.4377 - val_loss: 0.4286\n",
            "Epoch 86/100\n",
            "1118/1118 [==============================] - 2s 2ms/step - loss: 0.4299 - val_loss: 0.4263\n",
            "Epoch 87/100\n",
            "1118/1118 [==============================] - 2s 2ms/step - loss: 0.4316 - val_loss: 0.4294\n",
            "Epoch 88/100\n",
            "1118/1118 [==============================] - 2s 2ms/step - loss: 0.4261 - val_loss: 0.4299\n",
            "Epoch 89/100\n",
            "1118/1118 [==============================] - 2s 2ms/step - loss: 0.4339 - val_loss: 0.4299\n",
            "Epoch 90/100\n",
            "1118/1118 [==============================] - 2s 2ms/step - loss: 0.4296 - val_loss: 0.4251\n",
            "Epoch 91/100\n",
            "1118/1118 [==============================] - 2s 2ms/step - loss: 0.4265 - val_loss: 0.4271\n",
            "Epoch 92/100\n",
            "1118/1118 [==============================] - 2s 2ms/step - loss: 0.4370 - val_loss: 0.4265\n",
            "Epoch 93/100\n",
            "1118/1118 [==============================] - 2s 2ms/step - loss: 0.4251 - val_loss: 0.4291\n",
            "Epoch 94/100\n",
            "1118/1118 [==============================] - 2s 2ms/step - loss: 0.4258 - val_loss: 0.4261\n",
            "Epoch 95/100\n",
            "1118/1118 [==============================] - 2s 2ms/step - loss: 0.4352 - val_loss: 0.4262\n",
            "Epoch 96/100\n",
            "1118/1118 [==============================] - 2s 2ms/step - loss: 0.4266 - val_loss: 0.4306\n",
            "Epoch 97/100\n",
            "1118/1118 [==============================] - 2s 2ms/step - loss: 0.4304 - val_loss: 0.4244\n",
            "Epoch 98/100\n",
            "1118/1118 [==============================] - 2s 2ms/step - loss: 0.4364 - val_loss: 0.4249\n",
            "Epoch 99/100\n",
            "1118/1118 [==============================] - 2s 2ms/step - loss: 0.4271 - val_loss: 0.4263\n",
            "Epoch 100/100\n",
            "1118/1118 [==============================] - 2s 2ms/step - loss: 0.4221 - val_loss: 0.4267\n"
          ],
          "name": "stdout"
        }
      ]
    },
    {
      "cell_type": "markdown",
      "metadata": {
        "id": "9ZfD1MCBRU5i"
      },
      "source": [
        "Visualizing Training and Validation Loss"
      ]
    },
    {
      "cell_type": "code",
      "metadata": {
        "colab": {
          "base_uri": "https://localhost:8080/",
          "height": 500
        },
        "id": "Dyb17-GGRWG9",
        "outputId": "9ee54784-9cea-48f0-e4a5-61a251f93626"
      },
      "source": [
        "fig , ax = plt.subplots(figsize=(8,8))\n",
        "plt.plot(model_history.history['loss'], label='loss')\n",
        "plt.plot(model_history.history['val_loss'],label='val_score',linestyle='--')\n",
        "plt.legend()"
      ],
      "execution_count": null,
      "outputs": [
        {
          "output_type": "execute_result",
          "data": {
            "text/plain": [
              "<matplotlib.legend.Legend at 0x7ff3d5322950>"
            ]
          },
          "metadata": {
            "tags": []
          },
          "execution_count": 81
        },
        {
          "output_type": "display_data",
          "data": {
            "image/png": "[encoded data removed]",
            "text/plain": [
              "<Figure size 576x576 with 1 Axes>"
            ]
          },
          "metadata": {
            "tags": [],
            "needs_background": "light"
          }
        }
      ]
    },
    {
      "cell_type": "code",
      "metadata": {
        "id": "uduBVPk6RbL3"
      },
      "source": [
        "y_pred = model.predict(X_test_ss)"
      ],
      "execution_count": null,
      "outputs": []
    },
    {
      "cell_type": "code",
      "metadata": {
        "id": "-KUK69ZRRkJ2"
      },
      "source": [
        "y_pred = np.where(y_pred>0.5,1,0)"
      ],
      "execution_count": null,
      "outputs": []
    },
    {
      "cell_type": "code",
      "metadata": {
        "colab": {
          "base_uri": "https://localhost:8080/"
        },
        "id": "vdkX7JhnRlo0",
        "outputId": "58943a64-c8bd-4677-b51f-0472b0e4760a"
      },
      "source": [
        "print(classification_report(y_test,y_pred))"
      ],
      "execution_count": null,
      "outputs": [
        {
          "output_type": "stream",
          "text": [
            "              precision    recall  f1-score   support\n",
            "\n",
            "           0       0.92      0.76      0.84      2373\n",
            "           1       0.46      0.75      0.57       627\n",
            "\n",
            "    accuracy                           0.76      3000\n",
            "   macro avg       0.69      0.76      0.70      3000\n",
            "weighted avg       0.82      0.76      0.78      3000\n",
            "\n"
          ],
          "name": "stdout"
        }
      ]
    },
    {
      "cell_type": "code",
      "metadata": {
        "colab": {
          "base_uri": "https://localhost:8080/",
          "height": 285
        },
        "id": "xmg8xoC1Rqgv",
        "outputId": "1208102f-eb27-474b-c881-611faf64ceb1"
      },
      "source": [
        "mat = confusion_matrix(y_test,y_pred)\n",
        "sns.heatmap(mat,annot=True,fmt='d')"
      ],
      "execution_count": null,
      "outputs": [
        {
          "output_type": "execute_result",
          "data": {
            "text/plain": [
              "<matplotlib.axes._subplots.AxesSubplot at 0x7ff3d530ae90>"
            ]
          },
          "metadata": {
            "tags": []
          },
          "execution_count": 86
        },
        {
          "output_type": "display_data",
          "data": {
            "image/png": "[encoded data removed]",
            "text/plain": [
              "<Figure size 432x288 with 2 Axes>"
            ]
          },
          "metadata": {
            "tags": [],
            "needs_background": "light"
          }
        }
      ]
    },
    {
      "cell_type": "markdown",
      "metadata": {
        "id": "EiV5LVIvSCwm"
      },
      "source": [
        "### ANN with undersampling\n"
      ]
    },
    {
      "cell_type": "code",
      "metadata": {
        "id": "a7oXNoTRSE61"
      },
      "source": [
        "# initializing ann\n",
        "model1 = Sequential()"
      ],
      "execution_count": null,
      "outputs": []
    },
    {
      "cell_type": "code",
      "metadata": {
        "id": "IejVm1mDSM1E"
      },
      "source": [
        "# adding the first input layer and the first hidden layer\n",
        "model1.add(Dense(8,input_shape=(X.shape[1],),activation = 'relu'))"
      ],
      "execution_count": null,
      "outputs": []
    },
    {
      "cell_type": "code",
      "metadata": {
        "id": "wbq5EZT8SNA0"
      },
      "source": [
        "# adding the second hidden layer\n",
        "model1.add(Dense(8,activation='relu'))"
      ],
      "execution_count": null,
      "outputs": []
    },
    {
      "cell_type": "code",
      "metadata": {
        "id": "zrZurQ_oSNDw"
      },
      "source": [
        "# adding third hidden layer\n",
        "model1.add(Dense(4,activation='relu'))"
      ],
      "execution_count": null,
      "outputs": []
    },
    {
      "cell_type": "code",
      "metadata": {
        "id": "ckEIGZOmSNGe"
      },
      "source": [
        "# adding the output layer\n",
        "model1.add(Dense(1,activation = 'sigmoid'))"
      ],
      "execution_count": null,
      "outputs": []
    },
    {
      "cell_type": "code",
      "metadata": {
        "colab": {
          "base_uri": "https://localhost:8080/"
        },
        "id": "YjdrJVpASNKd",
        "outputId": "21e302a8-c3e6-4b52-8ec6-8401b9195d7f"
      },
      "source": [
        "## model summary\n",
        "model1.summary()"
      ],
      "execution_count": null,
      "outputs": [
        {
          "output_type": "stream",
          "text": [
            "Model: \"sequential_2\"\n",
            "_________________________________________________________________\n",
            "Layer (type)                 Output Shape              Param #   \n",
            "=================================================================\n",
            "dense_8 (Dense)              (None, 8)                 88        \n",
            "_________________________________________________________________\n",
            "dense_9 (Dense)              (None, 8)                 72        \n",
            "_________________________________________________________________\n",
            "dense_10 (Dense)             (None, 4)                 36        \n",
            "_________________________________________________________________\n",
            "dense_11 (Dense)             (None, 1)                 5         \n",
            "=================================================================\n",
            "Total params: 201\n",
            "Trainable params: 201\n",
            "Non-trainable params: 0\n",
            "_________________________________________________________________\n"
          ],
          "name": "stdout"
        }
      ]
    },
    {
      "cell_type": "code",
      "metadata": {
        "id": "FY9itVDrSNNO"
      },
      "source": [
        "## Compiling model"
      ],
      "execution_count": null,
      "outputs": []
    },
    {
      "cell_type": "code",
      "metadata": {
        "id": "8SHaSrXVSkKH"
      },
      "source": [
        "model1.compile(optimizer = 'adam', loss = 'binary_crossentropy')"
      ],
      "execution_count": null,
      "outputs": []
    },
    {
      "cell_type": "code",
      "metadata": {
        "colab": {
          "base_uri": "https://localhost:8080/"
        },
        "id": "GLMoJfofSnmZ",
        "outputId": "e417a14f-ad3e-49a2-f672-9ddd6e67850e"
      },
      "source": [
        "model1_history = model1.fit(X_sample_2,y_sample_2, batch_size = 10, epochs = 100,validation_data=(X_sample_2,y_sample_2))"
      ],
      "execution_count": null,
      "outputs": [
        {
          "output_type": "stream",
          "text": [
            "Epoch 1/100\n",
            "282/282 [==============================] - 1s 2ms/step - loss: 0.6930 - val_loss: 0.6481\n",
            "Epoch 2/100\n",
            "282/282 [==============================] - 0s 2ms/step - loss: 0.6465 - val_loss: 0.6240\n",
            "Epoch 3/100\n",
            "282/282 [==============================] - 0s 2ms/step - loss: 0.6191 - val_loss: 0.6019\n",
            "Epoch 4/100\n",
            "282/282 [==============================] - 0s 2ms/step - loss: 0.5939 - val_loss: 0.5731\n",
            "Epoch 5/100\n",
            "282/282 [==============================] - 0s 2ms/step - loss: 0.5645 - val_loss: 0.5488\n",
            "Epoch 6/100\n",
            "282/282 [==============================] - 1s 2ms/step - loss: 0.5486 - val_loss: 0.5319\n",
            "Epoch 7/100\n",
            "282/282 [==============================] - 0s 2ms/step - loss: 0.5318 - val_loss: 0.5148\n",
            "Epoch 8/100\n",
            "282/282 [==============================] - 0s 2ms/step - loss: 0.5055 - val_loss: 0.5057\n",
            "Epoch 9/100\n",
            "282/282 [==============================] - 0s 2ms/step - loss: 0.5273 - val_loss: 0.4999\n",
            "Epoch 10/100\n",
            "282/282 [==============================] - 0s 2ms/step - loss: 0.5013 - val_loss: 0.4956\n",
            "Epoch 11/100\n",
            "282/282 [==============================] - 0s 2ms/step - loss: 0.4977 - val_loss: 0.4953\n",
            "Epoch 12/100\n",
            "282/282 [==============================] - 0s 2ms/step - loss: 0.5031 - val_loss: 0.4912\n",
            "Epoch 13/100\n",
            "282/282 [==============================] - 0s 2ms/step - loss: 0.4971 - val_loss: 0.4894\n",
            "Epoch 14/100\n",
            "282/282 [==============================] - 0s 2ms/step - loss: 0.4887 - val_loss: 0.4882\n",
            "Epoch 15/100\n",
            "282/282 [==============================] - 1s 2ms/step - loss: 0.4973 - val_loss: 0.4865\n",
            "Epoch 16/100\n",
            "282/282 [==============================] - 0s 2ms/step - loss: 0.4898 - val_loss: 0.4857\n",
            "Epoch 17/100\n",
            "282/282 [==============================] - 0s 2ms/step - loss: 0.4825 - val_loss: 0.4847\n",
            "Epoch 18/100\n",
            "282/282 [==============================] - 0s 2ms/step - loss: 0.4896 - val_loss: 0.4866\n",
            "Epoch 19/100\n",
            "282/282 [==============================] - 0s 2ms/step - loss: 0.4824 - val_loss: 0.4830\n",
            "Epoch 20/100\n",
            "282/282 [==============================] - 0s 2ms/step - loss: 0.4780 - val_loss: 0.4829\n",
            "Epoch 21/100\n",
            "282/282 [==============================] - 0s 2ms/step - loss: 0.4945 - val_loss: 0.4813\n",
            "Epoch 22/100\n",
            "282/282 [==============================] - 0s 2ms/step - loss: 0.4690 - val_loss: 0.4807\n",
            "Epoch 23/100\n",
            "282/282 [==============================] - 1s 2ms/step - loss: 0.4813 - val_loss: 0.4832\n",
            "Epoch 24/100\n",
            "282/282 [==============================] - 0s 2ms/step - loss: 0.4751 - val_loss: 0.4792\n",
            "Epoch 25/100\n",
            "282/282 [==============================] - 0s 2ms/step - loss: 0.4898 - val_loss: 0.4797\n",
            "Epoch 26/100\n",
            "282/282 [==============================] - 0s 2ms/step - loss: 0.4910 - val_loss: 0.4804\n",
            "Epoch 27/100\n",
            "282/282 [==============================] - 0s 2ms/step - loss: 0.4846 - val_loss: 0.4818\n",
            "Epoch 28/100\n",
            "282/282 [==============================] - 1s 2ms/step - loss: 0.4938 - val_loss: 0.4801\n",
            "Epoch 29/100\n",
            "282/282 [==============================] - 0s 2ms/step - loss: 0.4713 - val_loss: 0.4787\n",
            "Epoch 30/100\n",
            "282/282 [==============================] - 0s 2ms/step - loss: 0.4705 - val_loss: 0.4756\n",
            "Epoch 31/100\n",
            "282/282 [==============================] - 0s 2ms/step - loss: 0.4613 - val_loss: 0.4783\n",
            "Epoch 32/100\n",
            "282/282 [==============================] - 0s 2ms/step - loss: 0.4798 - val_loss: 0.4758\n",
            "Epoch 33/100\n",
            "282/282 [==============================] - 0s 2ms/step - loss: 0.4802 - val_loss: 0.4756\n",
            "Epoch 34/100\n",
            "282/282 [==============================] - 0s 2ms/step - loss: 0.4964 - val_loss: 0.4751\n",
            "Epoch 35/100\n",
            "282/282 [==============================] - 0s 2ms/step - loss: 0.4739 - val_loss: 0.4749\n",
            "Epoch 36/100\n",
            "282/282 [==============================] - 0s 2ms/step - loss: 0.4789 - val_loss: 0.4732\n",
            "Epoch 37/100\n",
            "282/282 [==============================] - 0s 2ms/step - loss: 0.4793 - val_loss: 0.4738\n",
            "Epoch 38/100\n",
            "282/282 [==============================] - 0s 2ms/step - loss: 0.4692 - val_loss: 0.4729\n",
            "Epoch 39/100\n",
            "282/282 [==============================] - 1s 2ms/step - loss: 0.4744 - val_loss: 0.4724\n",
            "Epoch 40/100\n",
            "282/282 [==============================] - 0s 2ms/step - loss: 0.4825 - val_loss: 0.4785\n",
            "Epoch 41/100\n",
            "282/282 [==============================] - 0s 2ms/step - loss: 0.4873 - val_loss: 0.4707\n",
            "Epoch 42/100\n",
            "282/282 [==============================] - 1s 2ms/step - loss: 0.4751 - val_loss: 0.4716\n",
            "Epoch 43/100\n",
            "282/282 [==============================] - 0s 2ms/step - loss: 0.4696 - val_loss: 0.4703\n",
            "Epoch 44/100\n",
            "282/282 [==============================] - 1s 2ms/step - loss: 0.4641 - val_loss: 0.4696\n",
            "Epoch 45/100\n",
            "282/282 [==============================] - 0s 2ms/step - loss: 0.4598 - val_loss: 0.4705\n",
            "Epoch 46/100\n",
            "282/282 [==============================] - 0s 2ms/step - loss: 0.4754 - val_loss: 0.4702\n",
            "Epoch 47/100\n",
            "282/282 [==============================] - 1s 2ms/step - loss: 0.4649 - val_loss: 0.4725\n",
            "Epoch 48/100\n",
            "282/282 [==============================] - 0s 2ms/step - loss: 0.4759 - val_loss: 0.4691\n",
            "Epoch 49/100\n",
            "282/282 [==============================] - 0s 2ms/step - loss: 0.4766 - val_loss: 0.4709\n",
            "Epoch 50/100\n",
            "282/282 [==============================] - 0s 2ms/step - loss: 0.4633 - val_loss: 0.4691\n",
            "Epoch 51/100\n",
            "282/282 [==============================] - 0s 2ms/step - loss: 0.4774 - val_loss: 0.4692\n",
            "Epoch 52/100\n",
            "282/282 [==============================] - 0s 2ms/step - loss: 0.4622 - val_loss: 0.4673\n",
            "Epoch 53/100\n",
            "282/282 [==============================] - 0s 2ms/step - loss: 0.4733 - val_loss: 0.4669\n",
            "Epoch 54/100\n",
            "282/282 [==============================] - 1s 2ms/step - loss: 0.4823 - val_loss: 0.4678\n",
            "Epoch 55/100\n",
            "282/282 [==============================] - 0s 2ms/step - loss: 0.4705 - val_loss: 0.4671\n",
            "Epoch 56/100\n",
            "282/282 [==============================] - 1s 2ms/step - loss: 0.4807 - val_loss: 0.4659\n",
            "Epoch 57/100\n",
            "282/282 [==============================] - 1s 2ms/step - loss: 0.4851 - val_loss: 0.4673\n",
            "Epoch 58/100\n",
            "282/282 [==============================] - 0s 2ms/step - loss: 0.4701 - val_loss: 0.4654\n",
            "Epoch 59/100\n",
            "282/282 [==============================] - 0s 2ms/step - loss: 0.4798 - val_loss: 0.4655\n",
            "Epoch 60/100\n",
            "282/282 [==============================] - 1s 2ms/step - loss: 0.4673 - val_loss: 0.4639\n",
            "Epoch 61/100\n",
            "282/282 [==============================] - 0s 2ms/step - loss: 0.4640 - val_loss: 0.4639\n",
            "Epoch 62/100\n",
            "282/282 [==============================] - 1s 2ms/step - loss: 0.4669 - val_loss: 0.4631\n",
            "Epoch 63/100\n",
            "282/282 [==============================] - 0s 2ms/step - loss: 0.4628 - val_loss: 0.4637\n",
            "Epoch 64/100\n",
            "282/282 [==============================] - 1s 2ms/step - loss: 0.4593 - val_loss: 0.4667\n",
            "Epoch 65/100\n",
            "282/282 [==============================] - 0s 2ms/step - loss: 0.4870 - val_loss: 0.4648\n",
            "Epoch 66/100\n",
            "282/282 [==============================] - 0s 2ms/step - loss: 0.4551 - val_loss: 0.4624\n",
            "Epoch 67/100\n",
            "282/282 [==============================] - 0s 2ms/step - loss: 0.4747 - val_loss: 0.4606\n",
            "Epoch 68/100\n",
            "282/282 [==============================] - 1s 2ms/step - loss: 0.4558 - val_loss: 0.4608\n",
            "Epoch 69/100\n",
            "282/282 [==============================] - 1s 2ms/step - loss: 0.4678 - val_loss: 0.4607\n",
            "Epoch 70/100\n",
            "282/282 [==============================] - 1s 2ms/step - loss: 0.4556 - val_loss: 0.4608\n",
            "Epoch 71/100\n",
            "282/282 [==============================] - 0s 2ms/step - loss: 0.4632 - val_loss: 0.4597\n",
            "Epoch 72/100\n",
            "282/282 [==============================] - 0s 2ms/step - loss: 0.4811 - val_loss: 0.4597\n",
            "Epoch 73/100\n",
            "282/282 [==============================] - 1s 2ms/step - loss: 0.4470 - val_loss: 0.4584\n",
            "Epoch 74/100\n",
            "282/282 [==============================] - 1s 2ms/step - loss: 0.4740 - val_loss: 0.4575\n",
            "Epoch 75/100\n",
            "282/282 [==============================] - 0s 2ms/step - loss: 0.4744 - val_loss: 0.4582\n",
            "Epoch 76/100\n",
            "282/282 [==============================] - 1s 2ms/step - loss: 0.4637 - val_loss: 0.4583\n",
            "Epoch 77/100\n",
            "282/282 [==============================] - 0s 2ms/step - loss: 0.4612 - val_loss: 0.4567\n",
            "Epoch 78/100\n",
            "282/282 [==============================] - 1s 2ms/step - loss: 0.4574 - val_loss: 0.4569\n",
            "Epoch 79/100\n",
            "282/282 [==============================] - 1s 2ms/step - loss: 0.4622 - val_loss: 0.4560\n",
            "Epoch 80/100\n",
            "282/282 [==============================] - 0s 2ms/step - loss: 0.4540 - val_loss: 0.4566\n",
            "Epoch 81/100\n",
            "282/282 [==============================] - 0s 2ms/step - loss: 0.4667 - val_loss: 0.4633\n",
            "Epoch 82/100\n",
            "282/282 [==============================] - 1s 2ms/step - loss: 0.4779 - val_loss: 0.4560\n",
            "Epoch 83/100\n",
            "282/282 [==============================] - 1s 2ms/step - loss: 0.4760 - val_loss: 0.4549\n",
            "Epoch 84/100\n",
            "282/282 [==============================] - 1s 2ms/step - loss: 0.4724 - val_loss: 0.4541\n",
            "Epoch 85/100\n",
            "282/282 [==============================] - 1s 2ms/step - loss: 0.4636 - val_loss: 0.4577\n",
            "Epoch 86/100\n",
            "282/282 [==============================] - 1s 2ms/step - loss: 0.4800 - val_loss: 0.4543\n",
            "Epoch 87/100\n",
            "282/282 [==============================] - 0s 2ms/step - loss: 0.4632 - val_loss: 0.4550\n",
            "Epoch 88/100\n",
            "282/282 [==============================] - 1s 2ms/step - loss: 0.4582 - val_loss: 0.4644\n",
            "Epoch 89/100\n",
            "282/282 [==============================] - 1s 2ms/step - loss: 0.4632 - val_loss: 0.4596\n",
            "Epoch 90/100\n",
            "282/282 [==============================] - 1s 2ms/step - loss: 0.4644 - val_loss: 0.4539\n",
            "Epoch 91/100\n",
            "282/282 [==============================] - 0s 2ms/step - loss: 0.4652 - val_loss: 0.4529\n",
            "Epoch 92/100\n",
            "282/282 [==============================] - 1s 2ms/step - loss: 0.4526 - val_loss: 0.4518\n",
            "Epoch 93/100\n",
            "282/282 [==============================] - 0s 2ms/step - loss: 0.4506 - val_loss: 0.4537\n",
            "Epoch 94/100\n",
            "282/282 [==============================] - 1s 2ms/step - loss: 0.4534 - val_loss: 0.4515\n",
            "Epoch 95/100\n",
            "282/282 [==============================] - 1s 2ms/step - loss: 0.4449 - val_loss: 0.4517\n",
            "Epoch 96/100\n",
            "282/282 [==============================] - 1s 2ms/step - loss: 0.4374 - val_loss: 0.4517\n",
            "Epoch 97/100\n",
            "282/282 [==============================] - 0s 2ms/step - loss: 0.4591 - val_loss: 0.4512\n",
            "Epoch 98/100\n",
            "282/282 [==============================] - 1s 2ms/step - loss: 0.4573 - val_loss: 0.4518\n",
            "Epoch 99/100\n",
            "282/282 [==============================] - 1s 2ms/step - loss: 0.4616 - val_loss: 0.4513\n",
            "Epoch 100/100\n",
            "282/282 [==============================] - 1s 2ms/step - loss: 0.4491 - val_loss: 0.4519\n"
          ],
          "name": "stdout"
        }
      ]
    },
    {
      "cell_type": "markdown",
      "metadata": {
        "id": "0-ixQ7ZuTbr6"
      },
      "source": [
        "## Visualizing Training and Validation Loss"
      ]
    },
    {
      "cell_type": "code",
      "metadata": {
        "colab": {
          "base_uri": "https://localhost:8080/",
          "height": 500
        },
        "id": "8aS6K_J8Tdpi",
        "outputId": "4053ad14-a638-4a05-d777-c1ba270f9375"
      },
      "source": [
        "fig , ax = plt.subplots(figsize=(8,8))\n",
        "plt.plot(model1_history.history['loss'], label='loss')\n",
        "plt.plot(model1_history.history['val_loss'],label='val_score',linestyle='--')\n",
        "plt.legend()"
      ],
      "execution_count": null,
      "outputs": [
        {
          "output_type": "execute_result",
          "data": {
            "text/plain": [
              "<matplotlib.legend.Legend at 0x7ff3d6085510>"
            ]
          },
          "metadata": {
            "tags": []
          },
          "execution_count": 96
        },
        {
          "output_type": "display_data",
          "data": {
            "image/png": "[encoded data removed]",
            "text/plain": [
              "<Figure size 576x576 with 1 Axes>"
            ]
          },
          "metadata": {
            "tags": [],
            "needs_background": "light"
          }
        }
      ]
    },
    {
      "cell_type": "code",
      "metadata": {
        "id": "TwppgRe0TklM"
      },
      "source": [
        "y_pred1 = model1.predict(X_test_ss)"
      ],
      "execution_count": null,
      "outputs": []
    },
    {
      "cell_type": "code",
      "metadata": {
        "id": "aYaKeMJGTpzf"
      },
      "source": [
        "y_pred1 = np.where(y_pred1>0.5,1,0)"
      ],
      "execution_count": null,
      "outputs": []
    },
    {
      "cell_type": "code",
      "metadata": {
        "colab": {
          "base_uri": "https://localhost:8080/"
        },
        "id": "4Elgw22wTtRG",
        "outputId": "4f4b2bab-31a7-4c68-c511-bc3e6e45ea67"
      },
      "source": [
        "print(classification_report(y_test,y_pred1))"
      ],
      "execution_count": null,
      "outputs": [
        {
          "output_type": "stream",
          "text": [
            "              precision    recall  f1-score   support\n",
            "\n",
            "           0       0.91      0.79      0.85      2373\n",
            "           1       0.48      0.71      0.57       627\n",
            "\n",
            "    accuracy                           0.78      3000\n",
            "   macro avg       0.69      0.75      0.71      3000\n",
            "weighted avg       0.82      0.78      0.79      3000\n",
            "\n"
          ],
          "name": "stdout"
        }
      ]
    },
    {
      "cell_type": "markdown",
      "metadata": {
        "id": "Uzg9kgczUBWv"
      },
      "source": [
        "Results And Conclusion\n",
        "\n",
        "The dataset is Visualized based on different criterion. The prediction of customer Churn is performed using ANN(Undersampling, Oversampling) & Baseline model. For oversampling we get accuracy of 78% and using undersampling with accuracy of 75% but in Baseline model we get Accuracy of 86%."
      ]
    },
    {
      "cell_type": "code",
      "metadata": {
        "id": "Tff6wu0iMgIV"
      },
      "source": [
        ""
      ],
      "execution_count": null,
      "outputs": []
    }
  ]
}